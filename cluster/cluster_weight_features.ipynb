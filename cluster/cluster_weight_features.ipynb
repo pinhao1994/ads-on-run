{
 "cells": [
  {
   "cell_type": "code",
   "execution_count": 1,
   "metadata": {},
   "outputs": [],
   "source": [
    "import tensorflow as tf\n",
    "\n",
    "tf.enable_eager_execution()\n",
    "\n",
    "tfe = tf.contrib.eager"
   ]
  },
  {
   "cell_type": "code",
   "execution_count": 2,
   "metadata": {},
   "outputs": [],
   "source": [
    "import pandas as pd\n",
    "import numpy as np\n",
    "import matplotlib.pyplot as plt\n",
    "import matplotlib.cm as cm\n",
    "import warnings\n",
    "\n",
    "warnings.filterwarnings(\"ignore\")"
   ]
  },
  {
   "cell_type": "code",
   "execution_count": 3,
   "metadata": {},
   "outputs": [],
   "source": [
    "from util import silhouette_plot, cluster_stability\n",
    "from scipy.cluster.hierarchy import dendrogram, ward\n",
    "from sklearn.cluster import KMeans\n",
    "from sklearn.metrics import silhouette_score\n",
    "from sklearn.manifold import TSNE"
   ]
  },
  {
   "cell_type": "markdown",
   "metadata": {},
   "source": [
    "# Preprocess DataFrame"
   ]
  },
  {
   "cell_type": "code",
   "execution_count": 4,
   "metadata": {},
   "outputs": [
    {
     "data": {
      "text/html": [
       "<div>\n",
       "<style scoped>\n",
       "    .dataframe tbody tr th:only-of-type {\n",
       "        vertical-align: middle;\n",
       "    }\n",
       "\n",
       "    .dataframe tbody tr th {\n",
       "        vertical-align: top;\n",
       "    }\n",
       "\n",
       "    .dataframe thead th {\n",
       "        text-align: right;\n",
       "    }\n",
       "</style>\n",
       "<table border=\"1\" class=\"dataframe\">\n",
       "  <thead>\n",
       "    <tr style=\"text-align: right;\">\n",
       "      <th></th>\n",
       "      <th>female[0-9]</th>\n",
       "      <th>male[0-9]</th>\n",
       "      <th>female[10-19]</th>\n",
       "      <th>male[10-19]</th>\n",
       "      <th>female[20-29]</th>\n",
       "      <th>male[20-29]</th>\n",
       "      <th>female[30-39]</th>\n",
       "      <th>male[30-39]</th>\n",
       "      <th>female[40-49]</th>\n",
       "      <th>male[40-49]</th>\n",
       "      <th>...</th>\n",
       "      <th>50,000-75,000</th>\n",
       "      <th>75,000-100,000</th>\n",
       "      <th>100,000-200,000</th>\n",
       "      <th>200,000-...</th>\n",
       "      <th>stadium_count</th>\n",
       "      <th>shoes_count</th>\n",
       "      <th>restaurant_count</th>\n",
       "      <th>gym_count</th>\n",
       "      <th>clothes_count</th>\n",
       "      <th>clinic_count</th>\n",
       "    </tr>\n",
       "  </thead>\n",
       "  <tbody>\n",
       "    <tr>\n",
       "      <th>10026</th>\n",
       "      <td>0.059201</td>\n",
       "      <td>0.056966</td>\n",
       "      <td>0.058436</td>\n",
       "      <td>0.059289</td>\n",
       "      <td>0.094345</td>\n",
       "      <td>0.08111</td>\n",
       "      <td>0.092021</td>\n",
       "      <td>0.078905</td>\n",
       "      <td>0.083287</td>\n",
       "      <td>0.079199</td>\n",
       "      <td>...</td>\n",
       "      <td>0.136957</td>\n",
       "      <td>0.078261</td>\n",
       "      <td>0.100000</td>\n",
       "      <td>0.053261</td>\n",
       "      <td>0.0</td>\n",
       "      <td>0.0</td>\n",
       "      <td>18.0</td>\n",
       "      <td>0.0</td>\n",
       "      <td>0.0</td>\n",
       "      <td>1.0</td>\n",
       "    </tr>\n",
       "    <tr>\n",
       "      <th>10027</th>\n",
       "      <td>0.050966</td>\n",
       "      <td>0.050011</td>\n",
       "      <td>0.077194</td>\n",
       "      <td>0.067228</td>\n",
       "      <td>0.131140</td>\n",
       "      <td>0.10853</td>\n",
       "      <td>0.077478</td>\n",
       "      <td>0.069054</td>\n",
       "      <td>0.066776</td>\n",
       "      <td>0.061601</td>\n",
       "      <td>...</td>\n",
       "      <td>0.126863</td>\n",
       "      <td>0.064340</td>\n",
       "      <td>0.086514</td>\n",
       "      <td>0.046529</td>\n",
       "      <td>0.0</td>\n",
       "      <td>2.0</td>\n",
       "      <td>25.0</td>\n",
       "      <td>4.0</td>\n",
       "      <td>5.0</td>\n",
       "      <td>1.0</td>\n",
       "    </tr>\n",
       "  </tbody>\n",
       "</table>\n",
       "<p>2 rows × 27 columns</p>\n",
       "</div>"
      ],
      "text/plain": [
       "       female[0-9]  male[0-9]  female[10-19]  male[10-19]  female[20-29]  \\\n",
       "10026     0.059201   0.056966       0.058436     0.059289       0.094345   \n",
       "10027     0.050966   0.050011       0.077194     0.067228       0.131140   \n",
       "\n",
       "       male[20-29]  female[30-39]  male[30-39]  female[40-49]  male[40-49]  \\\n",
       "10026      0.08111       0.092021     0.078905       0.083287     0.079199   \n",
       "10027      0.10853       0.077478     0.069054       0.066776     0.061601   \n",
       "\n",
       "           ...       50,000-75,000  75,000-100,000  100,000-200,000  \\\n",
       "10026      ...            0.136957        0.078261         0.100000   \n",
       "10027      ...            0.126863        0.064340         0.086514   \n",
       "\n",
       "       200,000-...  stadium_count  shoes_count  restaurant_count  gym_count  \\\n",
       "10026     0.053261            0.0          0.0              18.0        0.0   \n",
       "10027     0.046529            0.0          2.0              25.0        4.0   \n",
       "\n",
       "       clothes_count  clinic_count  \n",
       "10026            0.0           1.0  \n",
       "10027            5.0           1.0  \n",
       "\n",
       "[2 rows x 27 columns]"
      ]
     },
     "execution_count": 4,
     "metadata": {},
     "output_type": "execute_result"
    }
   ],
   "source": [
    "df_main = pd.read_csv(\"zip_code_age_lg_wealth_osm_percentage.csv\", index_col=\"Unnamed: 0\")\n",
    "df_main = df_main.drop(index=10020)  # missing all the data\n",
    "df_main.head(2)"
   ]
  },
  {
   "cell_type": "code",
   "execution_count": 5,
   "metadata": {},
   "outputs": [
    {
     "name": "stdout",
     "output_type": "stream",
     "text": [
      "stadium sparsity: 0.9193548387096774\n",
      "shoes sparsity: 0.43548387096774194\n",
      "restaurant sparsity: 0.04838709677419355\n",
      "gym sparsity: 0.5\n",
      "clothes sparsity: 0.3870967741935484\n",
      "clinic sparsity: 0.43548387096774194\n"
     ]
    }
   ],
   "source": [
    "for osm in ['stadium', 'shoes', 'restaurant', 'gym', 'clothes', 'clinic']:\n",
    "    col_name = f'{osm}_count'\n",
    "    sparsity = np.sum(df_main[col_name]==0) / df_main.shape[0]\n",
    "    print(f'{osm} sparsity: {sparsity}')"
   ]
  },
  {
   "cell_type": "code",
   "execution_count": 6,
   "metadata": {},
   "outputs": [
    {
     "data": {
      "text/plain": [
       "(62, 26)"
      ]
     },
     "execution_count": 6,
     "metadata": {},
     "output_type": "execute_result"
    }
   ],
   "source": [
    "mask = df_main.columns[df_main.columns!='stadium_count']\n",
    "df_main = df_main[mask]\n",
    "df_main.shape"
   ]
  },
  {
   "cell_type": "code",
   "execution_count": 7,
   "metadata": {},
   "outputs": [
    {
     "data": {
      "image/png": "[encoded data removed]",
      "text/plain": [
       "<Figure size 1440x360 with 1 Axes>"
      ]
     },
     "metadata": {
      "needs_background": "light"
     },
     "output_type": "display_data"
    }
   ],
   "source": [
    "plt.figure(figsize=(20, 5))\n",
    "linkage_array = ward(df_main)\n",
    "dendrogram(linkage_array, leaf_font_size=12)\n",
    "\n",
    "h_line = [200000, 70000, 30000]\n",
    "\n",
    "ax = plt.gca()\n",
    "bounds = ax.get_xbound()\n",
    "ax.plot(bounds, [h_line[0], h_line[0]], '--', c='grey')\n",
    "ax.plot(bounds, [h_line[1], h_line[1]], '--', c='grey')\n",
    "ax.plot(bounds, [h_line[2], h_line[2]], '--', c='grey')\n",
    "\n",
    "ax.text(bounds[1]+5, h_line[0], 'two clusters', va='center', fontdict={'size': 15})\n",
    "ax.text(bounds[1]+5, h_line[1], 'four clusters', va='center', fontdict={'size': 15})\n",
    "ax.text(bounds[1]+5, h_line[2], 'six clusters', va='center', fontdict={'size': 15})\n",
    "\n",
    "ax.set_xlabel(\"index\")\n",
    "ax.set_ylabel(\"cluster distance\")\n",
    "ax.set_xticklabels([df_main.index[int(i.get_text())] for i in ax.get_xticklabels()])\n",
    "ax.set_title(\"Dendrogram\")\n",
    "plt.show()"
   ]
  },
  {
   "cell_type": "markdown",
   "metadata": {},
   "source": [
    "# Gradient Descent KMeams w/ SSE Objective Funtion "
   ]
  },
  {
   "cell_type": "code",
   "execution_count": 24,
   "metadata": {},
   "outputs": [],
   "source": [
    "N_ROWS, N_FEATURES = df_main.shape\n",
    "MAT = tf.constant(df_main.values)\n",
    "WEIGHTS = dict()"
   ]
  },
  {
   "cell_type": "markdown",
   "metadata": {},
   "source": [
    "## Define the SSE Function"
   ]
  },
  {
   "cell_type": "code",
   "execution_count": 9,
   "metadata": {},
   "outputs": [],
   "source": [
    "def sse_sum(weights, centers, labels):\n",
    "    sse = tf.zeros([1, N_FEATURES], tf.float64)\n",
    "    for i in range(N_ROWS):\n",
    "        sse += (MAT * weights - centers[labels[i]])**2\n",
    "    return tf.reduce_sum(sse)"
   ]
  },
  {
   "cell_type": "markdown",
   "metadata": {},
   "source": [
    "## Gradient Function of SSE"
   ]
  },
  {
   "cell_type": "code",
   "execution_count": 10,
   "metadata": {},
   "outputs": [],
   "source": [
    "grad_sse_sum = tfe.gradients_function(sse_sum, params=[0])"
   ]
  },
  {
   "cell_type": "markdown",
   "metadata": {},
   "source": [
    "# Gradient Models"
   ]
  },
  {
   "cell_type": "code",
   "execution_count": 11,
   "metadata": {},
   "outputs": [],
   "source": [
    "def inital_weights_sse(Model, lr):\n",
    "    weights = tf.ones([1, N_FEATURES], tf.float64)\n",
    "\n",
    "    mat_w = MAT * weights\n",
    "    model = Model.fit(mat_w)\n",
    "    \n",
    "    centers = model.cluster_centers_\n",
    "    labels = model.labels_\n",
    "    sse_cur = sse_sum(weights, centers, labels)\n",
    "\n",
    "    grad = grad_sse_sum(weights, centers, labels)[0]\n",
    "    weights = weights - grad / tf.norm(grad) * lr\n",
    "    weights /= tf.norm(weights)\n",
    "\n",
    "    return weights, sse_cur"
   ]
  },
  {
   "cell_type": "code",
   "execution_count": 12,
   "metadata": {},
   "outputs": [],
   "source": [
    "def gradient_kmeans(Model, lr, threshold, sse_prev, **initial):\n",
    "    delta_sse = initial[\"delta_sse\"] if \"delta_sse\" in initial else 2*(10**12)\n",
    "    weights = initial[\"weights\"] if \"weights\" in initial else tf.ones([1, N_FEATURES], tf.float64)\n",
    "    \n",
    "    sse_lt = list()\n",
    "    while delta_sse > threshold:\n",
    "        mat_w = MAT * weights\n",
    "        model = Model.fit(mat_w)\n",
    "        \n",
    "        centers = model.cluster_centers_\n",
    "        labels = model.labels_\n",
    "        sse_cur = sse_sum(weights, centers, labels)\n",
    "        \n",
    "\n",
    "        grad = grad_sse_sum(weights, centers, labels)[0]\n",
    "        weights = weights - grad / tf.norm(grad) * lr\n",
    "        weights /= tf.norm(weights)\n",
    "        \n",
    "        delta_sse = tf.abs(sse_prev - sse_cur)\n",
    "        sse_prev = sse_cur\n",
    "        sse_lt.append(sse_cur)\n",
    "        if not (len(sse_lt) % 50):\n",
    "            print(f\"Iter: {len(sse_lt)}, delta SSE: {delta_sse.numpy()}\")\n",
    "\n",
    "    print(f\"\\nFinal delta SSE: {delta_sse}\")   \n",
    "    return weights, delta_sse, sse_lt \n",
    "    "
   ]
  },
  {
   "cell_type": "markdown",
   "metadata": {},
   "source": [
    "## KMeans (n = 3)"
   ]
  },
  {
   "cell_type": "code",
   "execution_count": 13,
   "metadata": {},
   "outputs": [],
   "source": [
    "init_w, init_sse = inital_weights_sse(KMeans(n_clusters=3), lr=0.001)"
   ]
  },
  {
   "cell_type": "code",
   "execution_count": 14,
   "metadata": {},
   "outputs": [
    {
     "name": "stdout",
     "output_type": "stream",
     "text": [
      "Iter: 50, delta SSE: 1395655360.0012054\n",
      "Iter: 100, delta SSE: 945895540.8891296\n",
      "Iter: 150, delta SSE: 477596068.3860321\n",
      "Iter: 200, delta SSE: 137992.48444164963\n",
      "\n",
      "Final delta SSE: 137992.48444164963\n"
     ]
    }
   ],
   "source": [
    "w1, d_sse1, sse_lt1 = gradient_kmeans(KMeans(n_clusters=3), lr=0.001, threshold=150000, sse_prev=init_sse, weights=init_w)"
   ]
  },
  {
   "cell_type": "code",
   "execution_count": 20,
   "metadata": {},
   "outputs": [
    {
     "name": "stdout",
     "output_type": "stream",
     "text": [
      "Iter: 50, delta SSE: 17386.962613041047\n",
      "Iter: 100, delta SSE: 16881.63405074482\n",
      "Iter: 150, delta SSE: 16429.204770932614\n",
      "Iter: 200, delta SSE: 15923.064972927445\n",
      "Iter: 250, delta SSE: 15640.408741252613\n",
      "Iter: 300, delta SSE: 15200.568952267175\n",
      "\n",
      "Final delta SSE: 14992.771924840927\n"
     ]
    }
   ],
   "source": [
    "w2, d_sse2, sse_lt2 = gradient_kmeans(KMeans(n_clusters=3), lr=0.0001, threshold=15000, sse_prev=sse_lt1[-1], weights=w1, delta_sse=d_sse1)"
   ]
  },
  {
   "cell_type": "code",
   "execution_count": 21,
   "metadata": {},
   "outputs": [
    {
     "name": "stdout",
     "output_type": "stream",
     "text": [
      "Iter: 50, delta SSE: 42.56118474208051\n",
      "Iter: 100, delta SSE: 13.027002580347471\n",
      "Iter: 150, delta SSE: 2.209502650250215\n",
      "\n",
      "Final delta SSE: 0.8377445990336128\n"
     ]
    }
   ],
   "source": [
    "w3, d_sse3, sse_lt3 = gradient_kmeans(KMeans(n_clusters=3), lr=0.00001, threshold=1, sse_prev=sse_lt1[-1], weights=w2, delta_sse=d_sse2)"
   ]
  },
  {
   "cell_type": "code",
   "execution_count": 22,
   "metadata": {},
   "outputs": [
    {
     "data": {
      "text/plain": [
       "0.5945518141893216"
      ]
     },
     "execution_count": 22,
     "metadata": {},
     "output_type": "execute_result"
    }
   ],
   "source": [
    "silhouette_score(MAT*w3, KMeans(n_clusters=3).fit(MAT*w3).labels_)"
   ]
  },
  {
   "cell_type": "code",
   "execution_count": 26,
   "metadata": {},
   "outputs": [],
   "source": [
    "WEIGHTS[3] = w3"
   ]
  },
  {
   "cell_type": "code",
   "execution_count": null,
   "metadata": {},
   "outputs": [],
   "source": []
  }
 ],
 "metadata": {
  "kernelspec": {
   "display_name": "SP",
   "language": "python",
   "name": "sp"
  },
  "language_info": {
   "codemirror_mode": {
    "name": "ipython",
    "version": 3
   },
   "file_extension": ".py",
   "mimetype": "text/x-python",
   "name": "python",
   "nbconvert_exporter": "python",
   "pygments_lexer": "ipython3",
   "version": "3.6.6"
  }
 },
 "nbformat": 4,
 "nbformat_minor": 2
}
