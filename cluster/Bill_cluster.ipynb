{
 "cells": [
  {
   "cell_type": "code",
   "execution_count": 161,
   "metadata": {},
   "outputs": [],
   "source": [
    "import pandas as pd\n",
    "import numpy as np\n",
    "import matplotlib.pyplot as plt\n",
    "import matplotlib.cm as cm\n",
    "import warnings\n",
    "\n",
    "from scipy.cluster.hierarchy import dendrogram, ward\n",
    "warnings.filterwarnings(\"ignore\")"
   ]
  },
  {
   "cell_type": "code",
   "execution_count": 77,
   "metadata": {},
   "outputs": [],
   "source": [
    "female_age_data = pd.read_csv(\"../data-collect/female_age_data.csv\", index_col=\"Unnamed: 0\")\n",
    "male_age_data = pd.read_csv(\"../data-collect/male_age_data.csv\", index_col=\"Unnamed: 0\")"
   ]
  },
  {
   "cell_type": "code",
   "execution_count": 78,
   "metadata": {},
   "outputs": [
    {
     "name": "stdout",
     "output_type": "stream",
     "text": [
      "(63, 103)\n"
     ]
    },
    {
     "data": {
      "text/html": [
       "<div>\n",
       "<style scoped>\n",
       "    .dataframe tbody tr th:only-of-type {\n",
       "        vertical-align: middle;\n",
       "    }\n",
       "\n",
       "    .dataframe tbody tr th {\n",
       "        vertical-align: top;\n",
       "    }\n",
       "\n",
       "    .dataframe thead th {\n",
       "        text-align: right;\n",
       "    }\n",
       "</style>\n",
       "<table border=\"1\" class=\"dataframe\">\n",
       "  <thead>\n",
       "    <tr style=\"text-align: right;\">\n",
       "      <th></th>\n",
       "      <th>0</th>\n",
       "      <th>1</th>\n",
       "      <th>2</th>\n",
       "      <th>3</th>\n",
       "      <th>4</th>\n",
       "      <th>5</th>\n",
       "      <th>6</th>\n",
       "      <th>7</th>\n",
       "      <th>8</th>\n",
       "      <th>9</th>\n",
       "      <th>...</th>\n",
       "      <th>93</th>\n",
       "      <th>94</th>\n",
       "      <th>95</th>\n",
       "      <th>96</th>\n",
       "      <th>97</th>\n",
       "      <th>98</th>\n",
       "      <th>99</th>\n",
       "      <th>100</th>\n",
       "      <th>101</th>\n",
       "      <th>102</th>\n",
       "    </tr>\n",
       "  </thead>\n",
       "  <tbody>\n",
       "    <tr>\n",
       "      <th>10026</th>\n",
       "      <td>216</td>\n",
       "      <td>212</td>\n",
       "      <td>225</td>\n",
       "      <td>189</td>\n",
       "      <td>208</td>\n",
       "      <td>192</td>\n",
       "      <td>190</td>\n",
       "      <td>205</td>\n",
       "      <td>181</td>\n",
       "      <td>195</td>\n",
       "      <td>...</td>\n",
       "      <td>14</td>\n",
       "      <td>6</td>\n",
       "      <td>7</td>\n",
       "      <td>7</td>\n",
       "      <td>4</td>\n",
       "      <td>4</td>\n",
       "      <td>5</td>\n",
       "      <td>2</td>\n",
       "      <td>0</td>\n",
       "      <td>0</td>\n",
       "    </tr>\n",
       "    <tr>\n",
       "      <th>10027</th>\n",
       "      <td>354</td>\n",
       "      <td>329</td>\n",
       "      <td>320</td>\n",
       "      <td>323</td>\n",
       "      <td>308</td>\n",
       "      <td>270</td>\n",
       "      <td>291</td>\n",
       "      <td>284</td>\n",
       "      <td>280</td>\n",
       "      <td>284</td>\n",
       "      <td>...</td>\n",
       "      <td>16</td>\n",
       "      <td>10</td>\n",
       "      <td>17</td>\n",
       "      <td>17</td>\n",
       "      <td>13</td>\n",
       "      <td>9</td>\n",
       "      <td>5</td>\n",
       "      <td>13</td>\n",
       "      <td>1</td>\n",
       "      <td>0</td>\n",
       "    </tr>\n",
       "    <tr>\n",
       "      <th>10030</th>\n",
       "      <td>167</td>\n",
       "      <td>197</td>\n",
       "      <td>155</td>\n",
       "      <td>191</td>\n",
       "      <td>165</td>\n",
       "      <td>158</td>\n",
       "      <td>150</td>\n",
       "      <td>168</td>\n",
       "      <td>146</td>\n",
       "      <td>150</td>\n",
       "      <td>...</td>\n",
       "      <td>12</td>\n",
       "      <td>5</td>\n",
       "      <td>6</td>\n",
       "      <td>7</td>\n",
       "      <td>3</td>\n",
       "      <td>3</td>\n",
       "      <td>0</td>\n",
       "      <td>1</td>\n",
       "      <td>1</td>\n",
       "      <td>0</td>\n",
       "    </tr>\n",
       "    <tr>\n",
       "      <th>10037</th>\n",
       "      <td>81</td>\n",
       "      <td>101</td>\n",
       "      <td>94</td>\n",
       "      <td>93</td>\n",
       "      <td>92</td>\n",
       "      <td>87</td>\n",
       "      <td>64</td>\n",
       "      <td>83</td>\n",
       "      <td>78</td>\n",
       "      <td>83</td>\n",
       "      <td>...</td>\n",
       "      <td>11</td>\n",
       "      <td>17</td>\n",
       "      <td>20</td>\n",
       "      <td>18</td>\n",
       "      <td>14</td>\n",
       "      <td>4</td>\n",
       "      <td>2</td>\n",
       "      <td>10</td>\n",
       "      <td>1</td>\n",
       "      <td>0</td>\n",
       "    </tr>\n",
       "    <tr>\n",
       "      <th>10039</th>\n",
       "      <td>184</td>\n",
       "      <td>150</td>\n",
       "      <td>167</td>\n",
       "      <td>152</td>\n",
       "      <td>146</td>\n",
       "      <td>169</td>\n",
       "      <td>152</td>\n",
       "      <td>160</td>\n",
       "      <td>165</td>\n",
       "      <td>178</td>\n",
       "      <td>...</td>\n",
       "      <td>14</td>\n",
       "      <td>8</td>\n",
       "      <td>10</td>\n",
       "      <td>6</td>\n",
       "      <td>2</td>\n",
       "      <td>1</td>\n",
       "      <td>4</td>\n",
       "      <td>8</td>\n",
       "      <td>0</td>\n",
       "      <td>0</td>\n",
       "    </tr>\n",
       "  </tbody>\n",
       "</table>\n",
       "<p>5 rows × 103 columns</p>\n",
       "</div>"
      ],
      "text/plain": [
       "         0    1    2    3    4    5    6    7    8    9 ...   93  94  95  96  \\\n",
       "10026  216  212  225  189  208  192  190  205  181  195 ...   14   6   7   7   \n",
       "10027  354  329  320  323  308  270  291  284  280  284 ...   16  10  17  17   \n",
       "10030  167  197  155  191  165  158  150  168  146  150 ...   12   5   6   7   \n",
       "10037   81  101   94   93   92   87   64   83   78   83 ...   11  17  20  18   \n",
       "10039  184  150  167  152  146  169  152  160  165  178 ...   14   8  10   6   \n",
       "\n",
       "       97  98  99  100  101  102  \n",
       "10026   4   4   5    2    0    0  \n",
       "10027  13   9   5   13    1    0  \n",
       "10030   3   3   0    1    1    0  \n",
       "10037  14   4   2   10    1    0  \n",
       "10039   2   1   4    8    0    0  \n",
       "\n",
       "[5 rows x 103 columns]"
      ]
     },
     "execution_count": 78,
     "metadata": {},
     "output_type": "execute_result"
    }
   ],
   "source": [
    "print(female_age_data.shape)\n",
    "female_age_data.head()"
   ]
  },
  {
   "cell_type": "code",
   "execution_count": 79,
   "metadata": {},
   "outputs": [
    {
     "name": "stdout",
     "output_type": "stream",
     "text": [
      "(63, 103)\n"
     ]
    },
    {
     "data": {
      "text/html": [
       "<div>\n",
       "<style scoped>\n",
       "    .dataframe tbody tr th:only-of-type {\n",
       "        vertical-align: middle;\n",
       "    }\n",
       "\n",
       "    .dataframe tbody tr th {\n",
       "        vertical-align: top;\n",
       "    }\n",
       "\n",
       "    .dataframe thead th {\n",
       "        text-align: right;\n",
       "    }\n",
       "</style>\n",
       "<table border=\"1\" class=\"dataframe\">\n",
       "  <thead>\n",
       "    <tr style=\"text-align: right;\">\n",
       "      <th></th>\n",
       "      <th>0</th>\n",
       "      <th>1</th>\n",
       "      <th>2</th>\n",
       "      <th>3</th>\n",
       "      <th>4</th>\n",
       "      <th>5</th>\n",
       "      <th>6</th>\n",
       "      <th>7</th>\n",
       "      <th>8</th>\n",
       "      <th>9</th>\n",
       "      <th>...</th>\n",
       "      <th>93</th>\n",
       "      <th>94</th>\n",
       "      <th>95</th>\n",
       "      <th>96</th>\n",
       "      <th>97</th>\n",
       "      <th>98</th>\n",
       "      <th>99</th>\n",
       "      <th>100</th>\n",
       "      <th>101</th>\n",
       "      <th>102</th>\n",
       "    </tr>\n",
       "  </thead>\n",
       "  <tbody>\n",
       "    <tr>\n",
       "      <th>10026</th>\n",
       "      <td>217</td>\n",
       "      <td>203</td>\n",
       "      <td>203</td>\n",
       "      <td>179</td>\n",
       "      <td>160</td>\n",
       "      <td>179</td>\n",
       "      <td>189</td>\n",
       "      <td>208</td>\n",
       "      <td>217</td>\n",
       "      <td>182</td>\n",
       "      <td>...</td>\n",
       "      <td>11</td>\n",
       "      <td>1</td>\n",
       "      <td>1</td>\n",
       "      <td>2</td>\n",
       "      <td>0</td>\n",
       "      <td>0</td>\n",
       "      <td>1</td>\n",
       "      <td>2</td>\n",
       "      <td>1</td>\n",
       "      <td>0</td>\n",
       "    </tr>\n",
       "    <tr>\n",
       "      <th>10027</th>\n",
       "      <td>355</td>\n",
       "      <td>333</td>\n",
       "      <td>291</td>\n",
       "      <td>281</td>\n",
       "      <td>279</td>\n",
       "      <td>289</td>\n",
       "      <td>272</td>\n",
       "      <td>287</td>\n",
       "      <td>299</td>\n",
       "      <td>300</td>\n",
       "      <td>...</td>\n",
       "      <td>6</td>\n",
       "      <td>6</td>\n",
       "      <td>3</td>\n",
       "      <td>4</td>\n",
       "      <td>1</td>\n",
       "      <td>2</td>\n",
       "      <td>0</td>\n",
       "      <td>0</td>\n",
       "      <td>0</td>\n",
       "      <td>0</td>\n",
       "    </tr>\n",
       "    <tr>\n",
       "      <th>10030</th>\n",
       "      <td>181</td>\n",
       "      <td>173</td>\n",
       "      <td>169</td>\n",
       "      <td>169</td>\n",
       "      <td>170</td>\n",
       "      <td>196</td>\n",
       "      <td>164</td>\n",
       "      <td>160</td>\n",
       "      <td>157</td>\n",
       "      <td>148</td>\n",
       "      <td>...</td>\n",
       "      <td>3</td>\n",
       "      <td>0</td>\n",
       "      <td>1</td>\n",
       "      <td>0</td>\n",
       "      <td>0</td>\n",
       "      <td>0</td>\n",
       "      <td>1</td>\n",
       "      <td>1</td>\n",
       "      <td>0</td>\n",
       "      <td>0</td>\n",
       "    </tr>\n",
       "    <tr>\n",
       "      <th>10037</th>\n",
       "      <td>91</td>\n",
       "      <td>94</td>\n",
       "      <td>89</td>\n",
       "      <td>77</td>\n",
       "      <td>73</td>\n",
       "      <td>80</td>\n",
       "      <td>94</td>\n",
       "      <td>79</td>\n",
       "      <td>93</td>\n",
       "      <td>88</td>\n",
       "      <td>...</td>\n",
       "      <td>5</td>\n",
       "      <td>4</td>\n",
       "      <td>4</td>\n",
       "      <td>2</td>\n",
       "      <td>3</td>\n",
       "      <td>1</td>\n",
       "      <td>0</td>\n",
       "      <td>3</td>\n",
       "      <td>0</td>\n",
       "      <td>0</td>\n",
       "    </tr>\n",
       "    <tr>\n",
       "      <th>10039</th>\n",
       "      <td>168</td>\n",
       "      <td>167</td>\n",
       "      <td>175</td>\n",
       "      <td>171</td>\n",
       "      <td>175</td>\n",
       "      <td>179</td>\n",
       "      <td>196</td>\n",
       "      <td>176</td>\n",
       "      <td>153</td>\n",
       "      <td>169</td>\n",
       "      <td>...</td>\n",
       "      <td>4</td>\n",
       "      <td>4</td>\n",
       "      <td>0</td>\n",
       "      <td>4</td>\n",
       "      <td>1</td>\n",
       "      <td>0</td>\n",
       "      <td>1</td>\n",
       "      <td>0</td>\n",
       "      <td>0</td>\n",
       "      <td>0</td>\n",
       "    </tr>\n",
       "  </tbody>\n",
       "</table>\n",
       "<p>5 rows × 103 columns</p>\n",
       "</div>"
      ],
      "text/plain": [
       "         0    1    2    3    4    5    6    7    8    9 ...   93  94  95  96  \\\n",
       "10026  217  203  203  179  160  179  189  208  217  182 ...   11   1   1   2   \n",
       "10027  355  333  291  281  279  289  272  287  299  300 ...    6   6   3   4   \n",
       "10030  181  173  169  169  170  196  164  160  157  148 ...    3   0   1   0   \n",
       "10037   91   94   89   77   73   80   94   79   93   88 ...    5   4   4   2   \n",
       "10039  168  167  175  171  175  179  196  176  153  169 ...    4   4   0   4   \n",
       "\n",
       "       97  98  99  100  101  102  \n",
       "10026   0   0   1    2    1    0  \n",
       "10027   1   2   0    0    0    0  \n",
       "10030   0   0   1    1    0    0  \n",
       "10037   3   1   0    3    0    0  \n",
       "10039   1   0   1    0    0    0  \n",
       "\n",
       "[5 rows x 103 columns]"
      ]
     },
     "execution_count": 79,
     "metadata": {},
     "output_type": "execute_result"
    }
   ],
   "source": [
    "print(male_age_data.shape)\n",
    "male_age_data.head()"
   ]
  },
  {
   "cell_type": "markdown",
   "metadata": {},
   "source": [
    "# Dendrogram"
   ]
  },
  {
   "cell_type": "code",
   "execution_count": 92,
   "metadata": {},
   "outputs": [
    {
     "data": {
      "image/png": "[encoded data removed]",
      "text/plain": [
       "<Figure size 1440x360 with 1 Axes>"
      ]
     },
     "metadata": {
      "needs_background": "light"
     },
     "output_type": "display_data"
    }
   ],
   "source": [
    "plt.figure(figsize=(20, 5))\n",
    "linkage_array = ward(female_age_data)\n",
    "dendrogram(linkage_array, leaf_font_size=12)\n",
    "\n",
    "h_line = [10000, 4500, ]\n",
    "\n",
    "ax = plt.gca()\n",
    "bounds = ax.get_xbound()\n",
    "ax.plot(bounds, [h_line[0], h_line[0]], '--', c='grey')\n",
    "ax.plot(bounds, [h_line[1], h_line[1]], '--', c='grey')\n",
    "# ax.plot(bounds, [h_line[2], h_line[2]], '--', c='grey')\n",
    "\n",
    "ax.text(bounds[1]+5, h_line[0], 'two clusters', va='center', fontdict={'size': 15})\n",
    "ax.text(bounds[1]+5, h_line[1], 'four clusters', va='center', fontdict={'size': 15})\n",
    "# ax.text(bounds[1]+5, h_line[2], 'six clusters', va='center', fontdict={'size': 15})\n",
    "\n",
    "ax.set_xlabel(\"index\")\n",
    "ax.set_ylabel(\"cluster distance\")\n",
    "ax.set_xticklabels([female_age_data.index[int(i.get_text())] for i in ax.get_xticklabels()])\n",
    "ax.set_title(\"Female Dendrogram\")\n",
    "plt.show()"
   ]
  },
  {
   "cell_type": "code",
   "execution_count": 94,
   "metadata": {},
   "outputs": [
    {
     "data": {
      "image/png": "[encoded data removed]",
      "text/plain": [
       "<Figure size 1440x360 with 1 Axes>"
      ]
     },
     "metadata": {
      "needs_background": "light"
     },
     "output_type": "display_data"
    }
   ],
   "source": [
    "plt.figure(figsize=(20, 5))\n",
    "linkage_array = ward(male_age_data)\n",
    "dendrogram(linkage_array, leaf_font_size=12)\n",
    "\n",
    "h_line = [10000, 4500, ]\n",
    "\n",
    "ax = plt.gca()\n",
    "bounds = ax.get_xbound()\n",
    "ax.plot(bounds, [h_line[0], h_line[0]], '--', c='grey')\n",
    "ax.plot(bounds, [h_line[1], h_line[1]], '--', c='grey')\n",
    "# ax.plot(bounds, [h_line[2], h_line[2]], '--', c='grey')\n",
    "\n",
    "ax.text(bounds[1]+5, h_line[0], 'two clusters', va='center', fontdict={'size': 15})\n",
    "ax.text(bounds[1]+5, h_line[1], 'four clusters', va='center', fontdict={'size': 15})\n",
    "# ax.text(bounds[1]+5, h_line[2], 'six clusters', va='center', fontdict={'size': 15})\n",
    "\n",
    "ax.set_xlabel(\"index\")\n",
    "ax.set_ylabel(\"cluster distance\")\n",
    "ax.set_xticklabels([male_age_data.index[int(i.get_text())] for i in ax.get_xticklabels()])\n",
    "ax.set_title(\"Male Dendrogram\")\n",
    "plt.show()"
   ]
  },
  {
   "cell_type": "code",
   "execution_count": 102,
   "metadata": {},
   "outputs": [],
   "source": [
    "df_merge = pd.merge(female_age_data.rename(columns=lambda col: \"female_%s\" % col),\n",
    "                    male_age_data.rename(columns=lambda col: \"male_%s\" % col), \n",
    "                    left_index=True, right_index=True)"
   ]
  },
  {
   "cell_type": "code",
   "execution_count": 103,
   "metadata": {},
   "outputs": [
    {
     "data": {
      "text/html": [
       "<div>\n",
       "<style scoped>\n",
       "    .dataframe tbody tr th:only-of-type {\n",
       "        vertical-align: middle;\n",
       "    }\n",
       "\n",
       "    .dataframe tbody tr th {\n",
       "        vertical-align: top;\n",
       "    }\n",
       "\n",
       "    .dataframe thead th {\n",
       "        text-align: right;\n",
       "    }\n",
       "</style>\n",
       "<table border=\"1\" class=\"dataframe\">\n",
       "  <thead>\n",
       "    <tr style=\"text-align: right;\">\n",
       "      <th></th>\n",
       "      <th>female_0</th>\n",
       "      <th>female_1</th>\n",
       "      <th>female_2</th>\n",
       "      <th>female_3</th>\n",
       "      <th>female_4</th>\n",
       "      <th>female_5</th>\n",
       "      <th>female_6</th>\n",
       "      <th>female_7</th>\n",
       "      <th>female_8</th>\n",
       "      <th>female_9</th>\n",
       "      <th>...</th>\n",
       "      <th>male_93</th>\n",
       "      <th>male_94</th>\n",
       "      <th>male_95</th>\n",
       "      <th>male_96</th>\n",
       "      <th>male_97</th>\n",
       "      <th>male_98</th>\n",
       "      <th>male_99</th>\n",
       "      <th>male_100</th>\n",
       "      <th>male_101</th>\n",
       "      <th>male_102</th>\n",
       "    </tr>\n",
       "  </thead>\n",
       "  <tbody>\n",
       "    <tr>\n",
       "      <th>10026</th>\n",
       "      <td>216</td>\n",
       "      <td>212</td>\n",
       "      <td>225</td>\n",
       "      <td>189</td>\n",
       "      <td>208</td>\n",
       "      <td>192</td>\n",
       "      <td>190</td>\n",
       "      <td>205</td>\n",
       "      <td>181</td>\n",
       "      <td>195</td>\n",
       "      <td>...</td>\n",
       "      <td>11</td>\n",
       "      <td>1</td>\n",
       "      <td>1</td>\n",
       "      <td>2</td>\n",
       "      <td>0</td>\n",
       "      <td>0</td>\n",
       "      <td>1</td>\n",
       "      <td>2</td>\n",
       "      <td>1</td>\n",
       "      <td>0</td>\n",
       "    </tr>\n",
       "    <tr>\n",
       "      <th>10027</th>\n",
       "      <td>354</td>\n",
       "      <td>329</td>\n",
       "      <td>320</td>\n",
       "      <td>323</td>\n",
       "      <td>308</td>\n",
       "      <td>270</td>\n",
       "      <td>291</td>\n",
       "      <td>284</td>\n",
       "      <td>280</td>\n",
       "      <td>284</td>\n",
       "      <td>...</td>\n",
       "      <td>6</td>\n",
       "      <td>6</td>\n",
       "      <td>3</td>\n",
       "      <td>4</td>\n",
       "      <td>1</td>\n",
       "      <td>2</td>\n",
       "      <td>0</td>\n",
       "      <td>0</td>\n",
       "      <td>0</td>\n",
       "      <td>0</td>\n",
       "    </tr>\n",
       "    <tr>\n",
       "      <th>10030</th>\n",
       "      <td>167</td>\n",
       "      <td>197</td>\n",
       "      <td>155</td>\n",
       "      <td>191</td>\n",
       "      <td>165</td>\n",
       "      <td>158</td>\n",
       "      <td>150</td>\n",
       "      <td>168</td>\n",
       "      <td>146</td>\n",
       "      <td>150</td>\n",
       "      <td>...</td>\n",
       "      <td>3</td>\n",
       "      <td>0</td>\n",
       "      <td>1</td>\n",
       "      <td>0</td>\n",
       "      <td>0</td>\n",
       "      <td>0</td>\n",
       "      <td>1</td>\n",
       "      <td>1</td>\n",
       "      <td>0</td>\n",
       "      <td>0</td>\n",
       "    </tr>\n",
       "    <tr>\n",
       "      <th>10037</th>\n",
       "      <td>81</td>\n",
       "      <td>101</td>\n",
       "      <td>94</td>\n",
       "      <td>93</td>\n",
       "      <td>92</td>\n",
       "      <td>87</td>\n",
       "      <td>64</td>\n",
       "      <td>83</td>\n",
       "      <td>78</td>\n",
       "      <td>83</td>\n",
       "      <td>...</td>\n",
       "      <td>5</td>\n",
       "      <td>4</td>\n",
       "      <td>4</td>\n",
       "      <td>2</td>\n",
       "      <td>3</td>\n",
       "      <td>1</td>\n",
       "      <td>0</td>\n",
       "      <td>3</td>\n",
       "      <td>0</td>\n",
       "      <td>0</td>\n",
       "    </tr>\n",
       "    <tr>\n",
       "      <th>10039</th>\n",
       "      <td>184</td>\n",
       "      <td>150</td>\n",
       "      <td>167</td>\n",
       "      <td>152</td>\n",
       "      <td>146</td>\n",
       "      <td>169</td>\n",
       "      <td>152</td>\n",
       "      <td>160</td>\n",
       "      <td>165</td>\n",
       "      <td>178</td>\n",
       "      <td>...</td>\n",
       "      <td>4</td>\n",
       "      <td>4</td>\n",
       "      <td>0</td>\n",
       "      <td>4</td>\n",
       "      <td>1</td>\n",
       "      <td>0</td>\n",
       "      <td>1</td>\n",
       "      <td>0</td>\n",
       "      <td>0</td>\n",
       "      <td>0</td>\n",
       "    </tr>\n",
       "  </tbody>\n",
       "</table>\n",
       "<p>5 rows × 206 columns</p>\n",
       "</div>"
      ],
      "text/plain": [
       "       female_0  female_1  female_2  female_3  female_4  female_5  female_6  \\\n",
       "10026       216       212       225       189       208       192       190   \n",
       "10027       354       329       320       323       308       270       291   \n",
       "10030       167       197       155       191       165       158       150   \n",
       "10037        81       101        94        93        92        87        64   \n",
       "10039       184       150       167       152       146       169       152   \n",
       "\n",
       "       female_7  female_8  female_9    ...     male_93  male_94  male_95  \\\n",
       "10026       205       181       195    ...          11        1        1   \n",
       "10027       284       280       284    ...           6        6        3   \n",
       "10030       168       146       150    ...           3        0        1   \n",
       "10037        83        78        83    ...           5        4        4   \n",
       "10039       160       165       178    ...           4        4        0   \n",
       "\n",
       "       male_96  male_97  male_98  male_99  male_100  male_101  male_102  \n",
       "10026        2        0        0        1         2         1         0  \n",
       "10027        4        1        2        0         0         0         0  \n",
       "10030        0        0        0        1         1         0         0  \n",
       "10037        2        3        1        0         3         0         0  \n",
       "10039        4        1        0        1         0         0         0  \n",
       "\n",
       "[5 rows x 206 columns]"
      ]
     },
     "execution_count": 103,
     "metadata": {},
     "output_type": "execute_result"
    }
   ],
   "source": [
    "df_merge.head()"
   ]
  },
  {
   "cell_type": "code",
   "execution_count": 107,
   "metadata": {},
   "outputs": [
    {
     "data": {
      "image/png": "[encoded data removed]",
      "text/plain": [
       "<Figure size 1440x360 with 1 Axes>"
      ]
     },
     "metadata": {
      "needs_background": "light"
     },
     "output_type": "display_data"
    }
   ],
   "source": [
    "plt.figure(figsize=(20, 5))\n",
    "linkage_array = ward(df_merge)\n",
    "dendrogram(linkage_array, leaf_font_size=12)\n",
    "\n",
    "h_line = [12500, 6000, ]\n",
    "\n",
    "ax = plt.gca()\n",
    "bounds = ax.get_xbound()\n",
    "ax.plot(bounds, [h_line[0], h_line[0]], '--', c='grey')\n",
    "ax.plot(bounds, [h_line[1], h_line[1]], '--', c='grey')\n",
    "# ax.plot(bounds, [h_line[2], h_line[2]], '--', c='grey')\n",
    "\n",
    "ax.text(bounds[1]+5, h_line[0], 'two clusters', va='center', fontdict={'size': 15})\n",
    "ax.text(bounds[1]+5, h_line[1], 'four clusters', va='center', fontdict={'size': 15})\n",
    "# ax.text(bounds[1]+5, h_line[2], 'six clusters', va='center', fontdict={'size': 15})\n",
    "\n",
    "ax.set_xlabel(\"index\")\n",
    "ax.set_ylabel(\"cluster distance\")\n",
    "ax.set_xticklabels([df_merge.index[int(i.get_text())] for i in ax.get_xticklabels()])\n",
    "ax.set_title(\"Male Dendrogram\")\n",
    "plt.show()"
   ]
  },
  {
   "cell_type": "markdown",
   "metadata": {},
   "source": [
    "# Cluster into 4 Groups"
   ]
  },
  {
   "cell_type": "code",
   "execution_count": 165,
   "metadata": {},
   "outputs": [],
   "source": [
    "from sklearn.cluster import KMeans, AgglomerativeClustering, DBSCAN\n",
    "from sklearn.model_selection import GridSearchCV\n",
    "from sklearn.metrics import silhouette_score, silhouette_samples,adjusted_rand_score\n",
    "from sklearn.base import clone"
   ]
  },
  {
   "cell_type": "code",
   "execution_count": 147,
   "metadata": {},
   "outputs": [],
   "source": [
    "def cluster_stability(data, model, n_iter=10):\n",
    "    labels, indices = list(), list()\n",
    "    rng = np.random.RandomState(1)\n",
    "\n",
    "    for i in range(n_iter):\n",
    "        # draw bootstrap samples, store indices\n",
    "        sample_indices = rng.randint(0, data.shape[0], data.shape[0])\n",
    "        indices.append(sample_indices)\n",
    "        model = clone(model)\n",
    "        if hasattr(model, \"random_state\"):\n",
    "            # randomize estimator if possible\n",
    "            model.random_state = rng.randint(1e5)\n",
    "        try:  # numpy array or list\n",
    "            data_bootstrap = np.array(data)[sample_indices]\n",
    "        except TypeError:  # pandas data frame\n",
    "            data_bootstrap = data.iloc[sample_indices]\n",
    "        model.fit(data_bootstrap)\n",
    "        # store clustering outcome using original indices\n",
    "        relabel = -np.ones(data.shape[0], dtype=np.int)\n",
    "        relabel[sample_indices] = model.labels_\n",
    "        labels.append(relabel)\n",
    "\n",
    "    scores = list()\n",
    "    for l, i in zip(labels, indices):\n",
    "        for k, j in zip(labels, indices):\n",
    "            # we also compute the diagonal which is a bit silly\n",
    "            in_both = np.intersect1d(i, j)\n",
    "            scores.append(adjusted_rand_score(l[in_both], k[in_both]))\n",
    "\n",
    "    return model, np.mean(scores)"
   ]
  },
  {
   "cell_type": "code",
   "execution_count": 201,
   "metadata": {},
   "outputs": [],
   "source": [
    "def silhouette_plot(train_data, predict_data, n_clusters, score=None):\n",
    "    fig = plt.figure()\n",
    "    # fig.set_size_inches(18, 7)\n",
    "    plt.title((\"Silhouette plot w/ n_clusters = %d\" % n_clusters),\n",
    "              fontsize=14, fontweight='bold')\n",
    "\n",
    "    # The silhouette coefficient can range from -1, 1\n",
    "    # The (n_clusters+1)*10 is for inserting blank space between silhouette plots of individual clusters\n",
    "    plt.xlim([-0.2, 1])\n",
    "    plt.ylim([0, len(train_data) + (n_clusters + 1) * 10])\n",
    "\n",
    "    # Compute the silhouette scores for each sample\n",
    "    silhouette_values = silhouette_samples(train_data, predict_data)\n",
    "\n",
    "    y_lower = 10\n",
    "    for i in range(n_clusters):\n",
    "        # Aggregate the silhouette scores for samples belonging to cluster i, and sort them\n",
    "        ith_cluster_silhouette_values = sorted(silhouette_values[predict_data == i])\n",
    "\n",
    "        size_cluster_i = len(ith_cluster_silhouette_values)\n",
    "        y_upper = y_lower + size_cluster_i\n",
    "\n",
    "        color = cm.nipy_spectral(float(i) / n_clusters)\n",
    "        plt.fill_betweenx(np.arange(y_lower, y_upper),\n",
    "                          0, ith_cluster_silhouette_values,\n",
    "                          facecolor=color, edgecolor=color, alpha=0.7)\n",
    "\n",
    "        # Label the silhouette plots with their cluster numbers at the middle\n",
    "        plt.text(-0.05, y_lower + 0.5 * size_cluster_i, str(i))\n",
    "\n",
    "        # Compute the new y_lower for next plot\n",
    "        y_lower = y_upper + 10  # 10 for the 0 samples\n",
    "\n",
    "    plt.xlabel(\"The silhouette coefficient values\")\n",
    "    plt.ylabel(\"Cluster label\")\n",
    "\n",
    "    # The vertical line for average silhouette score of all the values\n",
    "    if score is not None:\n",
    "        plt.axvline(x=score, color=\"red\", linestyle=\"--\")\n",
    "\n",
    "    plt.yticks([])  # Clear the yaxis labels / ticks\n",
    "    plt.xticks([-0.2, 0, 0.2, 0.4, 0.6, 0.8, 1])\n",
    "    plt.show()\n"
   ]
  },
  {
   "cell_type": "markdown",
   "metadata": {},
   "source": [
    "## KMeans"
   ]
  },
  {
   "cell_type": "code",
   "execution_count": 155,
   "metadata": {},
   "outputs": [
    {
     "data": {
      "text/plain": [
       "{'n_clusters': 4}"
      ]
     },
     "execution_count": 155,
     "metadata": {},
     "output_type": "execute_result"
    }
   ],
   "source": [
    "params = {\"n_clusters\": [2, 3, 4, 5]}\n",
    "kmeans = GridSearchCV(KMeans(), param_grid=params, cv=5)\n",
    "kmeans.fit(df_merge)\n",
    "kmeans.best_params_"
   ]
  },
  {
   "cell_type": "code",
   "execution_count": 139,
   "metadata": {},
   "outputs": [
    {
     "data": {
      "text/plain": [
       "0.3305790601270011"
      ]
     },
     "execution_count": 139,
     "metadata": {},
     "output_type": "execute_result"
    }
   ],
   "source": [
    "silhouette_score(df_merge, kmeans.best_estimator_.labels_)"
   ]
  },
  {
   "cell_type": "code",
   "execution_count": 202,
   "metadata": {},
   "outputs": [
    {
     "data": {
      "image/png": "[encoded data removed]",
      "text/plain": [
       "<Figure size 432x288 with 1 Axes>"
      ]
     },
     "metadata": {
      "needs_background": "light"
     },
     "output_type": "display_data"
    }
   ],
   "source": [
    "silhouette_plot(df_merge, kmeans.best_estimator_.labels_, 4, score=0.33)"
   ]
  },
  {
   "cell_type": "code",
   "execution_count": 150,
   "metadata": {},
   "outputs": [
    {
     "data": {
      "text/plain": [
       "0.7897951753273805"
      ]
     },
     "execution_count": 150,
     "metadata": {},
     "output_type": "execute_result"
    }
   ],
   "source": [
    "_, stability_score = cluster_stability(df_merge, KMeans(n_clusters=4), n_iter=10)\n",
    "stability_score"
   ]
  },
  {
   "cell_type": "code",
   "execution_count": 211,
   "metadata": {},
   "outputs": [
    {
     "data": {
      "text/plain": [
       "array([0, 1, 0, 2, 2, 2, 1, 2, 0, 2, 0, 3, 0, 0, 1, 2, 0, 0, 0, 0, 2, 2,\n",
       "       2, 2, 2, 2, 3, 1, 1, 0, 0, 2, 0, 0, 1, 1, 1, 3, 1, 1, 1, 0, 0, 1,\n",
       "       2, 2, 2, 2, 3, 3, 3, 3, 1, 0, 1, 0, 0, 3, 1, 1, 3, 3, 0],\n",
       "      dtype=int32)"
      ]
     },
     "execution_count": 211,
     "metadata": {},
     "output_type": "execute_result"
    }
   ],
   "source": [
    "kmeans.best_estimator_.labels_"
   ]
  },
  {
   "cell_type": "markdown",
   "metadata": {},
   "source": [
    "## Agglomerative"
   ]
  },
  {
   "cell_type": "code",
   "execution_count": 171,
   "metadata": {},
   "outputs": [
    {
     "name": "stdout",
     "output_type": "stream",
     "text": [
      "# Clusters: 2 | Stability: 0.7027 | Silhouette: 0.4625\n",
      "# Clusters: 3 | Stability: 0.6041 | Silhouette: 0.3178\n",
      "# Clusters: 4 | Stability: 0.6938 | Silhouette: 0.2968\n",
      "# Clusters: 5 | Stability: 0.7619 | Silhouette: 0.2375\n"
     ]
    }
   ],
   "source": [
    "params = {\"n_clusters\": [2, 3, 4, 5]}\n",
    "\n",
    "for nc in params[\"n_clusters\"]:\n",
    "    _, stability_score = cluster_stability(df_merge, AgglomerativeClustering(n_clusters=nc), n_iter=10)\n",
    "    model = AgglomerativeClustering(n_clusters=nc)\n",
    "    model.fit(df_merge)\n",
    "    print(\"# Clusters: %d | Stability: %.4f | Silhouette: %.4f\" % (nc, stability_score, silhouette_score(df_merge, model.labels_)))"
   ]
  },
  {
   "cell_type": "markdown",
   "metadata": {},
   "source": [
    "## DBSCAN"
   ]
  },
  {
   "cell_type": "code",
   "execution_count": 205,
   "metadata": {},
   "outputs": [
    {
     "name": "stdout",
     "output_type": "stream",
     "text": [
      "Min Samples: 1\n",
      "Eps: 1000\n",
      "Silhouette: 0.1580569195535736\n",
      "[ 0  1  2  3  4  5  6  7  8  9 10 11 12 13 14 15 16 17 18 19 20 21] \n",
      "\n",
      "Min Samples: 1\n",
      "Eps: 2000\n",
      "Silhouette: 0.3983743518003738\n",
      "[0 1 2] \n",
      "\n",
      "Min Samples: 2\n",
      "Eps: 1000\n",
      "Silhouette: 0.19996099485616425\n",
      "[-1  0  1  2  3  4] \n",
      "\n",
      "Min Samples: 3\n",
      "Eps: 1000\n",
      "Silhouette: 0.18400572614686556\n",
      "[-1  0  1  2] \n",
      "\n"
     ]
    }
   ],
   "source": [
    "for min_samples in range(1, 21):\n",
    "    for eps in range(1, 14):\n",
    "        db = DBSCAN(eps=eps*1000, min_samples=min_samples)\n",
    "        clustered_data = db.fit_predict(df_merge)\n",
    "        \n",
    "        y_predict = np.unique(clustered_data)\n",
    "        n_clusters = len(y_predict)\n",
    "        if n_clusters > 3 or (n_clusters >= 2 and -1 not in y_predict):\n",
    "            print(\"Min Samples:\", min_samples)\n",
    "            print(\"Eps:\", eps*1000)\n",
    "            print(\"Silhouette:\", silhouette_score(df_merge, clustered_data))\n",
    "            print(y_predict, \"\\n\")"
   ]
  },
  {
   "cell_type": "code",
   "execution_count": 207,
   "metadata": {},
   "outputs": [
    {
     "data": {
      "text/plain": [
       "array([0, 0, 0, 0, 0, 0, 0, 0, 0, 0, 0, 0, 0, 0, 0, 0, 0, 0, 0, 0, 0, 0,\n",
       "       0, 0, 0, 0, 0, 0, 0, 0, 0, 0, 0, 0, 0, 0, 0, 0, 0, 0, 0, 0, 0, 0,\n",
       "       0, 0, 0, 0, 0, 0, 1, 0, 0, 0, 0, 0, 0, 0, 0, 0, 2, 2, 0])"
      ]
     },
     "execution_count": 207,
     "metadata": {},
     "output_type": "execute_result"
    }
   ],
   "source": [
    "db = DBSCAN(eps=2000, min_samples=1)\n",
    "clustered_data = db.fit_predict(df_merge)\n",
    "clustered_data"
   ]
  },
  {
   "cell_type": "code",
   "execution_count": 208,
   "metadata": {},
   "outputs": [
    {
     "data": {
      "text/plain": [
       "0.3983743518003738"
      ]
     },
     "execution_count": 208,
     "metadata": {},
     "output_type": "execute_result"
    }
   ],
   "source": [
    "silhouette_score(df_merge, clustered_data)"
   ]
  },
  {
   "cell_type": "code",
   "execution_count": 209,
   "metadata": {},
   "outputs": [
    {
     "data": {
      "text/plain": [
       "0.7615357501047917"
      ]
     },
     "execution_count": 209,
     "metadata": {},
     "output_type": "execute_result"
    }
   ],
   "source": [
    "_, stability_score = cluster_stability(df_merge, DBSCAN(eps=2000, min_samples=1), n_iter=10)\n",
    "stability_score"
   ]
  },
  {
   "cell_type": "code",
   "execution_count": 210,
   "metadata": {},
   "outputs": [
    {
     "data": {
      "image/png": "[encoded data removed]",
      "text/plain": [
       "<Figure size 432x288 with 1 Axes>"
      ]
     },
     "metadata": {
      "needs_background": "light"
     },
     "output_type": "display_data"
    }
   ],
   "source": [
    "silhouette_plot(df_merge, clustered_data, 3, score=0.40)"
   ]
  },
  {
   "cell_type": "markdown",
   "metadata": {},
   "source": [
    "## KMeans Detail"
   ]
  },
  {
   "cell_type": "markdown",
   "metadata": {},
   "source": [
    "### n_clusters = 3, cuz DBSCAM suggest"
   ]
  },
  {
   "cell_type": "code",
   "execution_count": 213,
   "metadata": {},
   "outputs": [
    {
     "data": {
      "text/plain": [
       "0.3876563409967513"
      ]
     },
     "execution_count": 213,
     "metadata": {},
     "output_type": "execute_result"
    }
   ],
   "source": [
    "km_3 = KMeans(n_clusters=3)\n",
    "km_3.fit(df_merge)\n",
    "silhouette_score(df_merge, km_3.labels_)"
   ]
  },
  {
   "cell_type": "code",
   "execution_count": 214,
   "metadata": {},
   "outputs": [
    {
     "data": {
      "image/png": "[encoded data removed]",
      "text/plain": [
       "<Figure size 432x288 with 1 Axes>"
      ]
     },
     "metadata": {
      "needs_background": "light"
     },
     "output_type": "display_data"
    }
   ],
   "source": [
    "silhouette_plot(df_merge, km_3.labels_, 3, score=0.39)"
   ]
  },
  {
   "cell_type": "code",
   "execution_count": 216,
   "metadata": {},
   "outputs": [
    {
     "data": {
      "text/plain": [
       "0.6765739528644319"
      ]
     },
     "execution_count": 216,
     "metadata": {},
     "output_type": "execute_result"
    }
   ],
   "source": [
    "_, stability_score = cluster_stability(df_merge, KMeans(n_clusters=3), n_iter=10)\n",
    "stability_score"
   ]
  },
  {
   "cell_type": "markdown",
   "metadata": {},
   "source": [
    "### n_clusters = 5, cuz Agglormerative states it's more stable "
   ]
  },
  {
   "cell_type": "code",
   "execution_count": 217,
   "metadata": {},
   "outputs": [
    {
     "data": {
      "text/plain": [
       "0.3207070098143604"
      ]
     },
     "execution_count": 217,
     "metadata": {},
     "output_type": "execute_result"
    }
   ],
   "source": [
    "km_5 = KMeans(n_clusters=5)\n",
    "km_5.fit(df_merge)\n",
    "silhouette_score(df_merge, km_5.labels_)"
   ]
  },
  {
   "cell_type": "code",
   "execution_count": 218,
   "metadata": {},
   "outputs": [
    {
     "data": {
      "image/png": "[encoded data removed]",
      "text/plain": [
       "<Figure size 432x288 with 1 Axes>"
      ]
     },
     "metadata": {
      "needs_background": "light"
     },
     "output_type": "display_data"
    }
   ],
   "source": [
    "silhouette_plot(df_merge, km_5.labels_, 5, score=0.32)"
   ]
  },
  {
   "cell_type": "code",
   "execution_count": 219,
   "metadata": {},
   "outputs": [
    {
     "data": {
      "text/plain": [
       "0.7233520721473127"
      ]
     },
     "execution_count": 219,
     "metadata": {},
     "output_type": "execute_result"
    }
   ],
   "source": [
    "_, stability_score = cluster_stability(df_merge, KMeans(n_clusters=5), n_iter=10)\n",
    "stability_score"
   ]
  },
  {
   "cell_type": "markdown",
   "metadata": {},
   "source": [
    "#### KMeans has better performace compared to the other models. KMeans w/ 4 clusters gives us the most stable model. However, KMeans w/ 3 clusters has the highest *silhouette* score. I do not consider ARI, NMI, or etc because the data does not contain true label. Since there is only 63 rows (zip codes), it will be good to assign the label manually. KMeans provides us w/ a good idea to seperate our dataset into 3 or 4 different groups."
   ]
  },
  {
   "cell_type": "code",
   "execution_count": null,
   "metadata": {},
   "outputs": [],
   "source": []
  }
 ],
 "metadata": {
  "kernelspec": {
   "display_name": "SP",
   "language": "python",
   "name": "sp"
  },
  "language_info": {
   "codemirror_mode": {
    "name": "ipython",
    "version": 3
   },
   "file_extension": ".py",
   "mimetype": "text/x-python",
   "name": "python",
   "nbconvert_exporter": "python",
   "pygments_lexer": "ipython3",
   "version": "3.6.6"
  }
 },
 "nbformat": 4,
 "nbformat_minor": 2
}
