{
 "cells": [
  {
   "cell_type": "code",
   "execution_count": 1,
   "metadata": {},
   "outputs": [],
   "source": [
    "import numpy as np\n",
    "import pandas as pd\n",
    "import matplotlib.pyplot as plt\n",
    "import matplotlib.patches as mpatches\n",
    "import pickle\n",
    "import warnings\n",
    "\n",
    "from sklearn.manifold import TSNE\n",
    "from sklearn.cluster import KMeans\n",
    "from collections import Counter\n",
    "\n",
    "warnings.filterwarnings(\"ignore\")"
   ]
  },
  {
   "cell_type": "code",
   "execution_count": 2,
   "metadata": {},
   "outputs": [],
   "source": [
    "df = pd.read_csv(\"zip_code_age.csv\", index_col=\"Unnamed: 0\")\n",
    "kmeans = pickle.load(open(\"kmeans.pkl\", \"rb\"))"
   ]
  },
  {
   "cell_type": "code",
   "execution_count": 3,
   "metadata": {},
   "outputs": [
    {
     "data": {
      "text/html": [
       "<div>\n",
       "<style scoped>\n",
       "    .dataframe tbody tr th:only-of-type {\n",
       "        vertical-align: middle;\n",
       "    }\n",
       "\n",
       "    .dataframe tbody tr th {\n",
       "        vertical-align: top;\n",
       "    }\n",
       "\n",
       "    .dataframe thead th {\n",
       "        text-align: right;\n",
       "    }\n",
       "</style>\n",
       "<table border=\"1\" class=\"dataframe\">\n",
       "  <thead>\n",
       "    <tr style=\"text-align: right;\">\n",
       "      <th></th>\n",
       "      <th>female_0</th>\n",
       "      <th>female_1</th>\n",
       "      <th>female_2</th>\n",
       "      <th>female_3</th>\n",
       "      <th>female_4</th>\n",
       "      <th>female_5</th>\n",
       "      <th>female_6</th>\n",
       "      <th>female_7</th>\n",
       "      <th>female_8</th>\n",
       "      <th>female_9</th>\n",
       "      <th>...</th>\n",
       "      <th>male_94</th>\n",
       "      <th>male_95</th>\n",
       "      <th>male_96</th>\n",
       "      <th>male_97</th>\n",
       "      <th>male_98</th>\n",
       "      <th>male_99</th>\n",
       "      <th>male_100</th>\n",
       "      <th>male_101</th>\n",
       "      <th>male_102</th>\n",
       "      <th>cluster</th>\n",
       "    </tr>\n",
       "  </thead>\n",
       "  <tbody>\n",
       "    <tr>\n",
       "      <th>10026</th>\n",
       "      <td>216</td>\n",
       "      <td>212</td>\n",
       "      <td>225</td>\n",
       "      <td>189</td>\n",
       "      <td>208</td>\n",
       "      <td>192</td>\n",
       "      <td>190</td>\n",
       "      <td>205</td>\n",
       "      <td>181</td>\n",
       "      <td>195</td>\n",
       "      <td>...</td>\n",
       "      <td>1</td>\n",
       "      <td>1</td>\n",
       "      <td>2</td>\n",
       "      <td>0</td>\n",
       "      <td>0</td>\n",
       "      <td>1</td>\n",
       "      <td>2</td>\n",
       "      <td>1</td>\n",
       "      <td>0</td>\n",
       "      <td>0</td>\n",
       "    </tr>\n",
       "    <tr>\n",
       "      <th>10027</th>\n",
       "      <td>354</td>\n",
       "      <td>329</td>\n",
       "      <td>320</td>\n",
       "      <td>323</td>\n",
       "      <td>308</td>\n",
       "      <td>270</td>\n",
       "      <td>291</td>\n",
       "      <td>284</td>\n",
       "      <td>280</td>\n",
       "      <td>284</td>\n",
       "      <td>...</td>\n",
       "      <td>6</td>\n",
       "      <td>3</td>\n",
       "      <td>4</td>\n",
       "      <td>1</td>\n",
       "      <td>2</td>\n",
       "      <td>0</td>\n",
       "      <td>0</td>\n",
       "      <td>0</td>\n",
       "      <td>0</td>\n",
       "      <td>1</td>\n",
       "    </tr>\n",
       "    <tr>\n",
       "      <th>10030</th>\n",
       "      <td>167</td>\n",
       "      <td>197</td>\n",
       "      <td>155</td>\n",
       "      <td>191</td>\n",
       "      <td>165</td>\n",
       "      <td>158</td>\n",
       "      <td>150</td>\n",
       "      <td>168</td>\n",
       "      <td>146</td>\n",
       "      <td>150</td>\n",
       "      <td>...</td>\n",
       "      <td>0</td>\n",
       "      <td>1</td>\n",
       "      <td>0</td>\n",
       "      <td>0</td>\n",
       "      <td>0</td>\n",
       "      <td>1</td>\n",
       "      <td>1</td>\n",
       "      <td>0</td>\n",
       "      <td>0</td>\n",
       "      <td>0</td>\n",
       "    </tr>\n",
       "    <tr>\n",
       "      <th>10037</th>\n",
       "      <td>81</td>\n",
       "      <td>101</td>\n",
       "      <td>94</td>\n",
       "      <td>93</td>\n",
       "      <td>92</td>\n",
       "      <td>87</td>\n",
       "      <td>64</td>\n",
       "      <td>83</td>\n",
       "      <td>78</td>\n",
       "      <td>83</td>\n",
       "      <td>...</td>\n",
       "      <td>4</td>\n",
       "      <td>4</td>\n",
       "      <td>2</td>\n",
       "      <td>3</td>\n",
       "      <td>1</td>\n",
       "      <td>0</td>\n",
       "      <td>3</td>\n",
       "      <td>0</td>\n",
       "      <td>0</td>\n",
       "      <td>2</td>\n",
       "    </tr>\n",
       "    <tr>\n",
       "      <th>10039</th>\n",
       "      <td>184</td>\n",
       "      <td>150</td>\n",
       "      <td>167</td>\n",
       "      <td>152</td>\n",
       "      <td>146</td>\n",
       "      <td>169</td>\n",
       "      <td>152</td>\n",
       "      <td>160</td>\n",
       "      <td>165</td>\n",
       "      <td>178</td>\n",
       "      <td>...</td>\n",
       "      <td>4</td>\n",
       "      <td>0</td>\n",
       "      <td>4</td>\n",
       "      <td>1</td>\n",
       "      <td>0</td>\n",
       "      <td>1</td>\n",
       "      <td>0</td>\n",
       "      <td>0</td>\n",
       "      <td>0</td>\n",
       "      <td>2</td>\n",
       "    </tr>\n",
       "  </tbody>\n",
       "</table>\n",
       "<p>5 rows × 207 columns</p>\n",
       "</div>"
      ],
      "text/plain": [
       "       female_0  female_1  female_2  female_3  female_4  female_5  female_6  \\\n",
       "10026       216       212       225       189       208       192       190   \n",
       "10027       354       329       320       323       308       270       291   \n",
       "10030       167       197       155       191       165       158       150   \n",
       "10037        81       101        94        93        92        87        64   \n",
       "10039       184       150       167       152       146       169       152   \n",
       "\n",
       "       female_7  female_8  female_9   ...     male_94  male_95  male_96  \\\n",
       "10026       205       181       195   ...           1        1        2   \n",
       "10027       284       280       284   ...           6        3        4   \n",
       "10030       168       146       150   ...           0        1        0   \n",
       "10037        83        78        83   ...           4        4        2   \n",
       "10039       160       165       178   ...           4        0        4   \n",
       "\n",
       "       male_97  male_98  male_99  male_100  male_101  male_102  cluster  \n",
       "10026        0        0        1         2         1         0        0  \n",
       "10027        1        2        0         0         0         0        1  \n",
       "10030        0        0        1         1         0         0        0  \n",
       "10037        3        1        0         3         0         0        2  \n",
       "10039        1        0        1         0         0         0        2  \n",
       "\n",
       "[5 rows x 207 columns]"
      ]
     },
     "execution_count": 3,
     "metadata": {},
     "output_type": "execute_result"
    }
   ],
   "source": [
    "df.head()"
   ]
  },
  {
   "cell_type": "code",
   "execution_count": 4,
   "metadata": {},
   "outputs": [
    {
     "data": {
      "image/png": "[encoded data removed]",
      "text/plain": [
       "<Figure size 432x288 with 1 Axes>"
      ]
     },
     "metadata": {},
     "output_type": "display_data"
    }
   ],
   "source": [
    "count = Counter(kmeans.best_estimator_.labels_)\n",
    "x_cluster, y_height = zip(*count.items())\n",
    "\n",
    "plt.bar(x=x_cluster, height=y_height, tick_label=x_cluster, color=[\"lightblue\", \"orange\"])\n",
    "for i, j in count.items(): plt.text(x=i-.1, y=j, s=j, fontdict={\"fontsize\": 15})\n",
    "plt.ylabel(\"count\")\n",
    "plt.xlabel(\"cluster #\")\n",
    "plt.title(\"count of each cluster\")\n",
    "plt.show()"
   ]
  },
  {
   "cell_type": "code",
   "execution_count": 28,
   "metadata": {},
   "outputs": [
    {
     "data": {
      "image/png": "[encoded data removed]",
      "text/plain": [
       "<Figure size 432x288 with 1 Axes>"
      ]
     },
     "metadata": {},
     "output_type": "display_data"
    }
   ],
   "source": [
    "tsne_embedded = TSNE(n_components=2).fit_transform(df)\n",
    "labels_km4 = kmeans.best_estimator_.labels_\n",
    "plt.scatter(tsne_embedded[:,0], tsne_embedded[:,1], c=labels_km4)\n",
    "plt.show()"
   ]
  },
  {
   "cell_type": "markdown",
   "metadata": {},
   "source": [
    "**Define Age Group as `[0-5 6-11 12-17 18-23 24-29 30-35 36-41 42-47 48-53 54-59 60-65 66+]`**"
   ]
  },
  {
   "cell_type": "code",
   "execution_count": 6,
   "metadata": {},
   "outputs": [],
   "source": [
    "def generate_age_group_colums(start, end):\n",
    "    yield from [['female_%s'%age for age in range(start, end+1)], ['male_%s'%age for age in range(start, end+1)]]"
   ]
  },
  {
   "cell_type": "code",
   "execution_count": 8,
   "metadata": {},
   "outputs": [],
   "source": [
    "age_groups = {(s,s+5): generate_age_group_colums(s, s+5)\n",
    "              for s in range(0, 61, 6)}\n",
    "age_groups[(66,102)] = generate_age_group_colums(65, 102)"
   ]
  },
  {
   "cell_type": "code",
   "execution_count": 9,
   "metadata": {},
   "outputs": [
    {
     "data": {
      "text/plain": [
       "{(0, 5): <generator object generate_age_group_colums at 0x11749de60>,\n",
       " (6, 11): <generator object generate_age_group_colums at 0x11749df10>,\n",
       " (12, 17): <generator object generate_age_group_colums at 0x11749deb8>,\n",
       " (18, 23): <generator object generate_age_group_colums at 0x11749de08>,\n",
       " (24, 29): <generator object generate_age_group_colums at 0x11749ddb0>,\n",
       " (30, 35): <generator object generate_age_group_colums at 0x11749dd58>,\n",
       " (36, 41): <generator object generate_age_group_colums at 0x11749dd00>,\n",
       " (42, 47): <generator object generate_age_group_colums at 0x11749dc50>,\n",
       " (48, 53): <generator object generate_age_group_colums at 0x11749da40>,\n",
       " (54, 59): <generator object generate_age_group_colums at 0x11749dca8>,\n",
       " (60, 65): <generator object generate_age_group_colums at 0x11749df68>,\n",
       " (66, 102): <generator object generate_age_group_colums at 0x11749dfc0>}"
      ]
     },
     "execution_count": 9,
     "metadata": {},
     "output_type": "execute_result"
    }
   ],
   "source": [
    "age_groups"
   ]
  },
  {
   "cell_type": "code",
   "execution_count": 10,
   "metadata": {},
   "outputs": [],
   "source": [
    "def create_age_group(df, start, end):\n",
    "    male_column = \"male[%s-%s]\" % (start, end)\n",
    "    female_column = \"female[%s-%s]\" % (start, end)\n",
    "    age_group = list(generate_age_group_colums(start, end))\n",
    "    df[female_column] = np.sum(df[age_group[0]], axis=1)\n",
    "    df[male_column] = np.sum(df[age_group[1]], axis=1)\n",
    "    return df"
   ]
  },
  {
   "cell_type": "code",
   "execution_count": 11,
   "metadata": {},
   "outputs": [],
   "source": [
    "for s, e in age_groups.keys():\n",
    "    df = create_age_group(df, s, e)"
   ]
  },
  {
   "cell_type": "code",
   "execution_count": 12,
   "metadata": {},
   "outputs": [
    {
     "data": {
      "text/html": [
       "<div>\n",
       "<style scoped>\n",
       "    .dataframe tbody tr th:only-of-type {\n",
       "        vertical-align: middle;\n",
       "    }\n",
       "\n",
       "    .dataframe tbody tr th {\n",
       "        vertical-align: top;\n",
       "    }\n",
       "\n",
       "    .dataframe thead th {\n",
       "        text-align: right;\n",
       "    }\n",
       "</style>\n",
       "<table border=\"1\" class=\"dataframe\">\n",
       "  <thead>\n",
       "    <tr style=\"text-align: right;\">\n",
       "      <th></th>\n",
       "      <th>female[0-5]</th>\n",
       "      <th>male[0-5]</th>\n",
       "      <th>female[6-11]</th>\n",
       "      <th>male[6-11]</th>\n",
       "      <th>female[12-17]</th>\n",
       "      <th>male[12-17]</th>\n",
       "      <th>female[18-23]</th>\n",
       "      <th>male[18-23]</th>\n",
       "      <th>female[24-29]</th>\n",
       "      <th>male[24-29]</th>\n",
       "      <th>...</th>\n",
       "      <th>female[42-47]</th>\n",
       "      <th>male[42-47]</th>\n",
       "      <th>female[48-53]</th>\n",
       "      <th>male[48-53]</th>\n",
       "      <th>female[54-59]</th>\n",
       "      <th>male[54-59]</th>\n",
       "      <th>female[60-65]</th>\n",
       "      <th>male[60-65]</th>\n",
       "      <th>female[66-102]</th>\n",
       "      <th>male[66-102]</th>\n",
       "    </tr>\n",
       "  </thead>\n",
       "  <tbody>\n",
       "    <tr>\n",
       "      <th>10026</th>\n",
       "      <td>1242</td>\n",
       "      <td>1141</td>\n",
       "      <td>1124</td>\n",
       "      <td>1201</td>\n",
       "      <td>1194</td>\n",
       "      <td>1171</td>\n",
       "      <td>1514</td>\n",
       "      <td>1425</td>\n",
       "      <td>2134</td>\n",
       "      <td>1773</td>\n",
       "      <td>...</td>\n",
       "      <td>1676</td>\n",
       "      <td>1609</td>\n",
       "      <td>1528</td>\n",
       "      <td>1432</td>\n",
       "      <td>1201</td>\n",
       "      <td>1071</td>\n",
       "      <td>911</td>\n",
       "      <td>699</td>\n",
       "      <td>1860</td>\n",
       "      <td>1071</td>\n",
       "    </tr>\n",
       "    <tr>\n",
       "      <th>10027</th>\n",
       "      <td>1904</td>\n",
       "      <td>1828</td>\n",
       "      <td>1707</td>\n",
       "      <td>1739</td>\n",
       "      <td>1896</td>\n",
       "      <td>1929</td>\n",
       "      <td>5573</td>\n",
       "      <td>4126</td>\n",
       "      <td>4402</td>\n",
       "      <td>3858</td>\n",
       "      <td>...</td>\n",
       "      <td>2388</td>\n",
       "      <td>2263</td>\n",
       "      <td>2184</td>\n",
       "      <td>1971</td>\n",
       "      <td>1939</td>\n",
       "      <td>1661</td>\n",
       "      <td>1476</td>\n",
       "      <td>1243</td>\n",
       "      <td>3329</td>\n",
       "      <td>1930</td>\n",
       "    </tr>\n",
       "    <tr>\n",
       "      <th>10030</th>\n",
       "      <td>1033</td>\n",
       "      <td>1058</td>\n",
       "      <td>951</td>\n",
       "      <td>982</td>\n",
       "      <td>1150</td>\n",
       "      <td>1165</td>\n",
       "      <td>1412</td>\n",
       "      <td>1258</td>\n",
       "      <td>1626</td>\n",
       "      <td>1334</td>\n",
       "      <td>...</td>\n",
       "      <td>1352</td>\n",
       "      <td>1136</td>\n",
       "      <td>1243</td>\n",
       "      <td>1078</td>\n",
       "      <td>924</td>\n",
       "      <td>833</td>\n",
       "      <td>703</td>\n",
       "      <td>527</td>\n",
       "      <td>1412</td>\n",
       "      <td>938</td>\n",
       "    </tr>\n",
       "    <tr>\n",
       "      <th>10037</th>\n",
       "      <td>548</td>\n",
       "      <td>504</td>\n",
       "      <td>471</td>\n",
       "      <td>529</td>\n",
       "      <td>590</td>\n",
       "      <td>610</td>\n",
       "      <td>741</td>\n",
       "      <td>664</td>\n",
       "      <td>969</td>\n",
       "      <td>741</td>\n",
       "      <td>...</td>\n",
       "      <td>867</td>\n",
       "      <td>647</td>\n",
       "      <td>829</td>\n",
       "      <td>603</td>\n",
       "      <td>782</td>\n",
       "      <td>468</td>\n",
       "      <td>693</td>\n",
       "      <td>449</td>\n",
       "      <td>1916</td>\n",
       "      <td>910</td>\n",
       "    </tr>\n",
       "    <tr>\n",
       "      <th>10039</th>\n",
       "      <td>968</td>\n",
       "      <td>1035</td>\n",
       "      <td>1006</td>\n",
       "      <td>1030</td>\n",
       "      <td>1086</td>\n",
       "      <td>1074</td>\n",
       "      <td>1195</td>\n",
       "      <td>1151</td>\n",
       "      <td>1283</td>\n",
       "      <td>1071</td>\n",
       "      <td>...</td>\n",
       "      <td>1154</td>\n",
       "      <td>977</td>\n",
       "      <td>1079</td>\n",
       "      <td>838</td>\n",
       "      <td>838</td>\n",
       "      <td>578</td>\n",
       "      <td>737</td>\n",
       "      <td>415</td>\n",
       "      <td>1727</td>\n",
       "      <td>839</td>\n",
       "    </tr>\n",
       "  </tbody>\n",
       "</table>\n",
       "<p>5 rows × 24 columns</p>\n",
       "</div>"
      ],
      "text/plain": [
       "       female[0-5]  male[0-5]  female[6-11]  male[6-11]  female[12-17]  \\\n",
       "10026         1242       1141          1124        1201           1194   \n",
       "10027         1904       1828          1707        1739           1896   \n",
       "10030         1033       1058           951         982           1150   \n",
       "10037          548        504           471         529            590   \n",
       "10039          968       1035          1006        1030           1086   \n",
       "\n",
       "       male[12-17]  female[18-23]  male[18-23]  female[24-29]  male[24-29]  \\\n",
       "10026         1171           1514         1425           2134         1773   \n",
       "10027         1929           5573         4126           4402         3858   \n",
       "10030         1165           1412         1258           1626         1334   \n",
       "10037          610            741          664            969          741   \n",
       "10039         1074           1195         1151           1283         1071   \n",
       "\n",
       "           ...       female[42-47]  male[42-47]  female[48-53]  male[48-53]  \\\n",
       "10026      ...                1676         1609           1528         1432   \n",
       "10027      ...                2388         2263           2184         1971   \n",
       "10030      ...                1352         1136           1243         1078   \n",
       "10037      ...                 867          647            829          603   \n",
       "10039      ...                1154          977           1079          838   \n",
       "\n",
       "       female[54-59]  male[54-59]  female[60-65]  male[60-65]  female[66-102]  \\\n",
       "10026           1201         1071            911          699            1860   \n",
       "10027           1939         1661           1476         1243            3329   \n",
       "10030            924          833            703          527            1412   \n",
       "10037            782          468            693          449            1916   \n",
       "10039            838          578            737          415            1727   \n",
       "\n",
       "       male[66-102]  \n",
       "10026          1071  \n",
       "10027          1930  \n",
       "10030           938  \n",
       "10037           910  \n",
       "10039           839  \n",
       "\n",
       "[5 rows x 24 columns]"
      ]
     },
     "execution_count": 12,
     "metadata": {},
     "output_type": "execute_result"
    }
   ],
   "source": [
    "age_group_columns=['%s[%s-%s]'%(g,s,e) for s, e in age_groups.keys() for g in ['female', 'male']]\n",
    "df_age_gp = df[age_group_columns]\n",
    "df_age_gp.head()"
   ]
  },
  {
   "cell_type": "markdown",
   "metadata": {},
   "source": [
    "## Cluster's Zip Code"
   ]
  },
  {
   "cell_type": "code",
   "execution_count": 13,
   "metadata": {},
   "outputs": [],
   "source": [
    "C = [kmeans.best_estimator_.labels_==0,\n",
    "     kmeans.best_estimator_.labels_==1,\n",
    "     kmeans.best_estimator_.labels_==2,\n",
    "     kmeans.best_estimator_.labels_==3]"
   ]
  },
  {
   "cell_type": "code",
   "execution_count": 14,
   "metadata": {},
   "outputs": [
    {
     "data": {
      "text/plain": [
       "(\"Cluster's Zip Code\",\n",
       " {0: Int64Index([10026, 10030, 10019, 10036, 10035, 10010, 10022, 10012, 10013,\n",
       "              10014, 10021, 10028, 10065, 10075, 10034, 10040, 11205, 11217,\n",
       "              11231, 11232],\n",
       "             dtype='int64'),\n",
       "  1: Int64Index([10027, 10011, 10016, 10003, 10009, 10128, 10023, 10024, 10031,\n",
       "              10032, 10033, 11691, 11201, 11215, 11210, 11225],\n",
       "             dtype='int64'),\n",
       "  2: Int64Index([10037, 10039, 10001, 10018, 10020, 10017, 10004, 10005, 10006,\n",
       "              10007, 10038, 10280, 10044, 11692, 11693, 11694, 11697],\n",
       "             dtype='int64'),\n",
       "  3: Int64Index([10029, 10002, 10025, 11204, 11218, 11219, 11230, 11203, 11226,\n",
       "              11220],\n",
       "             dtype='int64')})"
      ]
     },
     "execution_count": 14,
     "metadata": {},
     "output_type": "execute_result"
    }
   ],
   "source": [
    "cluster_zip_code = {i: df_age_gp[c].index for i, c in enumerate(C)}\n",
    "\"Cluster's Zip Code\", cluster_zip_code"
   ]
  },
  {
   "cell_type": "code",
   "execution_count": 15,
   "metadata": {},
   "outputs": [],
   "source": [
    "pickle.dump(cluster_zip_code, open(\"cluster_zip_code.pkl\", \"wb\"))"
   ]
  },
  {
   "cell_type": "markdown",
   "metadata": {},
   "source": [
    "## Distribution of each Cluster"
   ]
  },
  {
   "cell_type": "code",
   "execution_count": 16,
   "metadata": {},
   "outputs": [],
   "source": [
    "def plot_cluster_distribution(cluster_idx):\n",
    "    c = kmeans.best_estimator_.labels_==cluster_idx\n",
    "    plt.bar(age_group_columns, np.sum(df_age_gp[c], axis=0)/np.sum(c), color=['pink', \"lightblue\"])\n",
    "    plt.xticks(rotation=90)\n",
    "    plt.ylabel(\"avg count per cluster\")\n",
    "    plt.title(\"Distribution of Cluster %s (Size: %s)\"%(cluster_idx,np.sum(c)))\n",
    "    plt.ylim([0, 8100])\n",
    "#     plt.show()"
   ]
  },
  {
   "cell_type": "code",
   "execution_count": 17,
   "metadata": {},
   "outputs": [
    {
     "data": {
      "image/png": "[encoded data removed]",
      "text/plain": [
       "<Figure size 1440x720 with 4 Axes>"
      ]
     },
     "metadata": {},
     "output_type": "display_data"
    }
   ],
   "source": [
    "plt.figure(figsize=(20,10))\n",
    "plt.subplots_adjust(hspace=0.5)\n",
    "plt.subplot(2,2,1); plot_cluster_distribution(cluster_idx=0)\n",
    "plt.subplot(2,2,2); plot_cluster_distribution(cluster_idx=1)\n",
    "plt.subplot(2,2,3); plot_cluster_distribution(cluster_idx=2)\n",
    "plt.subplot(2,2,4); plot_cluster_distribution(cluster_idx=3)\n",
    "pink_bar = mpatches.Patch(color='pink', label='female')\n",
    "blue_bar = mpatches.Patch(color='lightblue', label='male')\n",
    "plt.figlegend(handles=[pink_bar, blue_bar], loc='upper center', ncol=2, fontsize='xx-large')\n",
    "plt.show()"
   ]
  },
  {
   "cell_type": "code",
   "execution_count": null,
   "metadata": {},
   "outputs": [],
   "source": []
  }
 ],
 "metadata": {
  "kernelspec": {
   "display_name": "Python 3",
   "language": "python",
   "name": "python3"
  },
  "language_info": {
   "codemirror_mode": {
    "name": "ipython",
    "version": 3
   },
   "file_extension": ".py",
   "mimetype": "text/x-python",
   "name": "python",
   "nbconvert_exporter": "python",
   "pygments_lexer": "ipython3",
   "version": "3.6.5"
  }
 },
 "nbformat": 4,
 "nbformat_minor": 2
}
