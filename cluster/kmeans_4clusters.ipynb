{
 "cells": [
  {
   "cell_type": "code",
   "execution_count": 90,
   "metadata": {},
   "outputs": [],
   "source": [
    "import numpy as np\n",
    "import pandas as pd\n",
    "import matplotlib.pyplot as plt\n",
    "import matplotlib.patches as mpatches\n",
    "import pickle\n",
    "import warnings\n",
    "\n",
    "from sklearn.manifold import TSNE\n",
    "from sklearn.cluster import KMeans\n",
    "from collections import Counter\n",
    "\n",
    "warnings.filterwarnings(\"ignore\")"
   ]
  },
  {
   "cell_type": "code",
   "execution_count": 2,
   "metadata": {},
   "outputs": [],
   "source": [
    "df = pd.read_csv(\"zip_code_age.csv\", index_col=\"Unnamed: 0\")\n",
    "kmeans = pickle.load(open(\"kmeans.pkl\", \"rb\"))"
   ]
  },
  {
   "cell_type": "code",
   "execution_count": 3,
   "metadata": {},
   "outputs": [
    {
     "data": {
      "text/html": [
       "<div>\n",
       "<style scoped>\n",
       "    .dataframe tbody tr th:only-of-type {\n",
       "        vertical-align: middle;\n",
       "    }\n",
       "\n",
       "    .dataframe tbody tr th {\n",
       "        vertical-align: top;\n",
       "    }\n",
       "\n",
       "    .dataframe thead th {\n",
       "        text-align: right;\n",
       "    }\n",
       "</style>\n",
       "<table border=\"1\" class=\"dataframe\">\n",
       "  <thead>\n",
       "    <tr style=\"text-align: right;\">\n",
       "      <th></th>\n",
       "      <th>female_0</th>\n",
       "      <th>female_1</th>\n",
       "      <th>female_2</th>\n",
       "      <th>female_3</th>\n",
       "      <th>female_4</th>\n",
       "      <th>female_5</th>\n",
       "      <th>female_6</th>\n",
       "      <th>female_7</th>\n",
       "      <th>female_8</th>\n",
       "      <th>female_9</th>\n",
       "      <th>...</th>\n",
       "      <th>male_94</th>\n",
       "      <th>male_95</th>\n",
       "      <th>male_96</th>\n",
       "      <th>male_97</th>\n",
       "      <th>male_98</th>\n",
       "      <th>male_99</th>\n",
       "      <th>male_100</th>\n",
       "      <th>male_101</th>\n",
       "      <th>male_102</th>\n",
       "      <th>cluster</th>\n",
       "    </tr>\n",
       "  </thead>\n",
       "  <tbody>\n",
       "    <tr>\n",
       "      <th>10026</th>\n",
       "      <td>216</td>\n",
       "      <td>212</td>\n",
       "      <td>225</td>\n",
       "      <td>189</td>\n",
       "      <td>208</td>\n",
       "      <td>192</td>\n",
       "      <td>190</td>\n",
       "      <td>205</td>\n",
       "      <td>181</td>\n",
       "      <td>195</td>\n",
       "      <td>...</td>\n",
       "      <td>1</td>\n",
       "      <td>1</td>\n",
       "      <td>2</td>\n",
       "      <td>0</td>\n",
       "      <td>0</td>\n",
       "      <td>1</td>\n",
       "      <td>2</td>\n",
       "      <td>1</td>\n",
       "      <td>0</td>\n",
       "      <td>0</td>\n",
       "    </tr>\n",
       "    <tr>\n",
       "      <th>10027</th>\n",
       "      <td>354</td>\n",
       "      <td>329</td>\n",
       "      <td>320</td>\n",
       "      <td>323</td>\n",
       "      <td>308</td>\n",
       "      <td>270</td>\n",
       "      <td>291</td>\n",
       "      <td>284</td>\n",
       "      <td>280</td>\n",
       "      <td>284</td>\n",
       "      <td>...</td>\n",
       "      <td>6</td>\n",
       "      <td>3</td>\n",
       "      <td>4</td>\n",
       "      <td>1</td>\n",
       "      <td>2</td>\n",
       "      <td>0</td>\n",
       "      <td>0</td>\n",
       "      <td>0</td>\n",
       "      <td>0</td>\n",
       "      <td>1</td>\n",
       "    </tr>\n",
       "    <tr>\n",
       "      <th>10030</th>\n",
       "      <td>167</td>\n",
       "      <td>197</td>\n",
       "      <td>155</td>\n",
       "      <td>191</td>\n",
       "      <td>165</td>\n",
       "      <td>158</td>\n",
       "      <td>150</td>\n",
       "      <td>168</td>\n",
       "      <td>146</td>\n",
       "      <td>150</td>\n",
       "      <td>...</td>\n",
       "      <td>0</td>\n",
       "      <td>1</td>\n",
       "      <td>0</td>\n",
       "      <td>0</td>\n",
       "      <td>0</td>\n",
       "      <td>1</td>\n",
       "      <td>1</td>\n",
       "      <td>0</td>\n",
       "      <td>0</td>\n",
       "      <td>0</td>\n",
       "    </tr>\n",
       "    <tr>\n",
       "      <th>10037</th>\n",
       "      <td>81</td>\n",
       "      <td>101</td>\n",
       "      <td>94</td>\n",
       "      <td>93</td>\n",
       "      <td>92</td>\n",
       "      <td>87</td>\n",
       "      <td>64</td>\n",
       "      <td>83</td>\n",
       "      <td>78</td>\n",
       "      <td>83</td>\n",
       "      <td>...</td>\n",
       "      <td>4</td>\n",
       "      <td>4</td>\n",
       "      <td>2</td>\n",
       "      <td>3</td>\n",
       "      <td>1</td>\n",
       "      <td>0</td>\n",
       "      <td>3</td>\n",
       "      <td>0</td>\n",
       "      <td>0</td>\n",
       "      <td>2</td>\n",
       "    </tr>\n",
       "    <tr>\n",
       "      <th>10039</th>\n",
       "      <td>184</td>\n",
       "      <td>150</td>\n",
       "      <td>167</td>\n",
       "      <td>152</td>\n",
       "      <td>146</td>\n",
       "      <td>169</td>\n",
       "      <td>152</td>\n",
       "      <td>160</td>\n",
       "      <td>165</td>\n",
       "      <td>178</td>\n",
       "      <td>...</td>\n",
       "      <td>4</td>\n",
       "      <td>0</td>\n",
       "      <td>4</td>\n",
       "      <td>1</td>\n",
       "      <td>0</td>\n",
       "      <td>1</td>\n",
       "      <td>0</td>\n",
       "      <td>0</td>\n",
       "      <td>0</td>\n",
       "      <td>2</td>\n",
       "    </tr>\n",
       "  </tbody>\n",
       "</table>\n",
       "<p>5 rows × 207 columns</p>\n",
       "</div>"
      ],
      "text/plain": [
       "       female_0  female_1  female_2  female_3  female_4  female_5  female_6  \\\n",
       "10026       216       212       225       189       208       192       190   \n",
       "10027       354       329       320       323       308       270       291   \n",
       "10030       167       197       155       191       165       158       150   \n",
       "10037        81       101        94        93        92        87        64   \n",
       "10039       184       150       167       152       146       169       152   \n",
       "\n",
       "       female_7  female_8  female_9   ...     male_94  male_95  male_96  \\\n",
       "10026       205       181       195   ...           1        1        2   \n",
       "10027       284       280       284   ...           6        3        4   \n",
       "10030       168       146       150   ...           0        1        0   \n",
       "10037        83        78        83   ...           4        4        2   \n",
       "10039       160       165       178   ...           4        0        4   \n",
       "\n",
       "       male_97  male_98  male_99  male_100  male_101  male_102  cluster  \n",
       "10026        0        0        1         2         1         0        0  \n",
       "10027        1        2        0         0         0         0        1  \n",
       "10030        0        0        1         1         0         0        0  \n",
       "10037        3        1        0         3         0         0        2  \n",
       "10039        1        0        1         0         0         0        2  \n",
       "\n",
       "[5 rows x 207 columns]"
      ]
     },
     "execution_count": 3,
     "metadata": {},
     "output_type": "execute_result"
    }
   ],
   "source": [
    "df.head()"
   ]
  },
  {
   "cell_type": "code",
   "execution_count": 4,
   "metadata": {},
   "outputs": [
    {
     "data": {
      "image/png": "[encoded data removed]",
      "text/plain": [
       "<Figure size 432x288 with 1 Axes>"
      ]
     },
     "metadata": {},
     "output_type": "display_data"
    }
   ],
   "source": [
    "count = Counter(kmeans.best_estimator_.labels_)\n",
    "x_cluster, y_height = zip(*count.items())\n",
    "\n",
    "plt.bar(x=x_cluster, height=y_height, tick_label=x_cluster, color=[\"lightblue\", \"orange\"])\n",
    "for i, j in count.items(): plt.text(x=i-.1, y=j, s=j, fontdict={\"fontsize\": 15})\n",
    "plt.ylabel(\"count\")\n",
    "plt.xlabel(\"cluster #\")\n",
    "plt.title(\"count of each cluster\")\n",
    "plt.show()"
   ]
  },
  {
   "cell_type": "code",
   "execution_count": 20,
   "metadata": {},
   "outputs": [
    {
     "data": {
      "image/png": "[encoded data removed]",
      "text/plain": [
       "<Figure size 432x288 with 1 Axes>"
      ]
     },
     "metadata": {},
     "output_type": "display_data"
    }
   ],
   "source": [
    "tsne_embedded = TSNE(n_components=2).fit_transform(df)\n",
    "labels_km4 = kmeans.best_estimator_.labels_\n",
    "plt.scatter(tsne_embedded[:,0], tsne_embedded[:,1], c=labels_km4)\n",
    "plt.show()"
   ]
  },
  {
   "cell_type": "markdown",
   "metadata": {},
   "source": [
    "**Define Age Group as `[0-5 6-12 13-17 18-24 25-34 35-44 45-54 55-64 65+]`**"
   ]
  },
  {
   "cell_type": "code",
   "execution_count": 6,
   "metadata": {},
   "outputs": [],
   "source": [
    "def generate_age_group_colums(start, end):\n",
    "    yield from [['female_%s'%age for age in range(start, end+1)], ['male_%s'%age for age in range(start, end+1)]]"
   ]
  },
  {
   "cell_type": "code",
   "execution_count": 7,
   "metadata": {},
   "outputs": [],
   "source": [
    "age_groups = {(s,e): generate_age_group_colums(s, e)\n",
    "              for s, e in zip(range(0, 56, 6), range(5, 65, 7))}\n",
    "age_groups[(65,102)] = generate_age_group_colums(65, 102)"
   ]
  },
  {
   "cell_type": "code",
   "execution_count": 8,
   "metadata": {},
   "outputs": [
    {
     "data": {
      "text/plain": [
       "{(0, 5): <generator object generate_age_group_colums at 0x1108fca40>,\n",
       " (6, 12): <generator object generate_age_group_colums at 0x1108fcaf0>,\n",
       " (12, 19): <generator object generate_age_group_colums at 0x1108fcdb0>,\n",
       " (18, 26): <generator object generate_age_group_colums at 0x11777a1a8>,\n",
       " (24, 33): <generator object generate_age_group_colums at 0x11777a7d8>,\n",
       " (30, 40): <generator object generate_age_group_colums at 0x11777a830>,\n",
       " (36, 47): <generator object generate_age_group_colums at 0x11777a888>,\n",
       " (42, 54): <generator object generate_age_group_colums at 0x11777a8e0>,\n",
       " (48, 61): <generator object generate_age_group_colums at 0x11777a938>,\n",
       " (65, 102): <generator object generate_age_group_colums at 0x11777a990>}"
      ]
     },
     "execution_count": 8,
     "metadata": {},
     "output_type": "execute_result"
    }
   ],
   "source": [
    "age_groups"
   ]
  },
  {
   "cell_type": "code",
   "execution_count": 9,
   "metadata": {},
   "outputs": [],
   "source": [
    "def create_age_group(df, start, end):\n",
    "    male_column = \"male[%s-%s]\" % (start, end)\n",
    "    female_column = \"female[%s-%s]\" % (start, end)\n",
    "    age_group = list(generate_age_group_colums(start, end))\n",
    "    df[female_column] = np.sum(df[age_group[0]], axis=1)\n",
    "    df[male_column] = np.sum(df[age_group[1]], axis=1)\n",
    "    return df"
   ]
  },
  {
   "cell_type": "code",
   "execution_count": 10,
   "metadata": {},
   "outputs": [],
   "source": [
    "for s, e in age_groups.keys():\n",
    "    df = create_age_group(df, s, e)"
   ]
  },
  {
   "cell_type": "code",
   "execution_count": 11,
   "metadata": {},
   "outputs": [
    {
     "data": {
      "text/html": [
       "<div>\n",
       "<style scoped>\n",
       "    .dataframe tbody tr th:only-of-type {\n",
       "        vertical-align: middle;\n",
       "    }\n",
       "\n",
       "    .dataframe tbody tr th {\n",
       "        vertical-align: top;\n",
       "    }\n",
       "\n",
       "    .dataframe thead th {\n",
       "        text-align: right;\n",
       "    }\n",
       "</style>\n",
       "<table border=\"1\" class=\"dataframe\">\n",
       "  <thead>\n",
       "    <tr style=\"text-align: right;\">\n",
       "      <th></th>\n",
       "      <th>female[0-5]</th>\n",
       "      <th>male[0-5]</th>\n",
       "      <th>female[6-12]</th>\n",
       "      <th>male[6-12]</th>\n",
       "      <th>female[12-19]</th>\n",
       "      <th>male[12-19]</th>\n",
       "      <th>female[18-26]</th>\n",
       "      <th>male[18-26]</th>\n",
       "      <th>female[24-33]</th>\n",
       "      <th>male[24-33]</th>\n",
       "      <th>female[30-40]</th>\n",
       "      <th>male[30-40]</th>\n",
       "      <th>female[36-47]</th>\n",
       "      <th>male[36-47]</th>\n",
       "      <th>female[42-54]</th>\n",
       "      <th>male[42-54]</th>\n",
       "      <th>female[48-61]</th>\n",
       "      <th>male[48-61]</th>\n",
       "      <th>female[65-102]</th>\n",
       "      <th>male[65-102]</th>\n",
       "    </tr>\n",
       "  </thead>\n",
       "  <tbody>\n",
       "    <tr>\n",
       "      <th>10026</th>\n",
       "      <td>1242</td>\n",
       "      <td>1141</td>\n",
       "      <td>1316</td>\n",
       "      <td>1372</td>\n",
       "      <td>1634</td>\n",
       "      <td>1611</td>\n",
       "      <td>2594</td>\n",
       "      <td>2317</td>\n",
       "      <td>3416</td>\n",
       "      <td>2889</td>\n",
       "      <td>3410</td>\n",
       "      <td>2994</td>\n",
       "      <td>3511</td>\n",
       "      <td>3228</td>\n",
       "      <td>3451</td>\n",
       "      <td>3272</td>\n",
       "      <td>3067</td>\n",
       "      <td>2792</td>\n",
       "      <td>1988</td>\n",
       "      <td>1168</td>\n",
       "    </tr>\n",
       "    <tr>\n",
       "      <th>10027</th>\n",
       "      <td>1904</td>\n",
       "      <td>1828</td>\n",
       "      <td>2001</td>\n",
       "      <td>2010</td>\n",
       "      <td>4041</td>\n",
       "      <td>3433</td>\n",
       "      <td>7986</td>\n",
       "      <td>6191</td>\n",
       "      <td>6582</td>\n",
       "      <td>5850</td>\n",
       "      <td>5065</td>\n",
       "      <td>4552</td>\n",
       "      <td>4796</td>\n",
       "      <td>4450</td>\n",
       "      <td>4901</td>\n",
       "      <td>4544</td>\n",
       "      <td>4695</td>\n",
       "      <td>4091</td>\n",
       "      <td>3556</td>\n",
       "      <td>2112</td>\n",
       "    </tr>\n",
       "    <tr>\n",
       "      <th>10030</th>\n",
       "      <td>1033</td>\n",
       "      <td>1058</td>\n",
       "      <td>1100</td>\n",
       "      <td>1144</td>\n",
       "      <td>1572</td>\n",
       "      <td>1577</td>\n",
       "      <td>2226</td>\n",
       "      <td>1926</td>\n",
       "      <td>2615</td>\n",
       "      <td>2166</td>\n",
       "      <td>2447</td>\n",
       "      <td>2054</td>\n",
       "      <td>2570</td>\n",
       "      <td>2230</td>\n",
       "      <td>2768</td>\n",
       "      <td>2366</td>\n",
       "      <td>2428</td>\n",
       "      <td>2094</td>\n",
       "      <td>1494</td>\n",
       "      <td>1010</td>\n",
       "    </tr>\n",
       "    <tr>\n",
       "      <th>10037</th>\n",
       "      <td>548</td>\n",
       "      <td>504</td>\n",
       "      <td>547</td>\n",
       "      <td>621</td>\n",
       "      <td>816</td>\n",
       "      <td>829</td>\n",
       "      <td>1208</td>\n",
       "      <td>1040</td>\n",
       "      <td>1589</td>\n",
       "      <td>1158</td>\n",
       "      <td>1573</td>\n",
       "      <td>1103</td>\n",
       "      <td>1668</td>\n",
       "      <td>1196</td>\n",
       "      <td>1818</td>\n",
       "      <td>1338</td>\n",
       "      <td>1849</td>\n",
       "      <td>1242</td>\n",
       "      <td>2029</td>\n",
       "      <td>985</td>\n",
       "    </tr>\n",
       "    <tr>\n",
       "      <th>10039</th>\n",
       "      <td>968</td>\n",
       "      <td>1035</td>\n",
       "      <td>1142</td>\n",
       "      <td>1198</td>\n",
       "      <td>1457</td>\n",
       "      <td>1453</td>\n",
       "      <td>1819</td>\n",
       "      <td>1714</td>\n",
       "      <td>2200</td>\n",
       "      <td>1722</td>\n",
       "      <td>2268</td>\n",
       "      <td>1818</td>\n",
       "      <td>2287</td>\n",
       "      <td>1956</td>\n",
       "      <td>2398</td>\n",
       "      <td>1936</td>\n",
       "      <td>2180</td>\n",
       "      <td>1580</td>\n",
       "      <td>1834</td>\n",
       "      <td>904</td>\n",
       "    </tr>\n",
       "  </tbody>\n",
       "</table>\n",
       "</div>"
      ],
      "text/plain": [
       "       female[0-5]  male[0-5]  female[6-12]  male[6-12]  female[12-19]  \\\n",
       "10026         1242       1141          1316        1372           1634   \n",
       "10027         1904       1828          2001        2010           4041   \n",
       "10030         1033       1058          1100        1144           1572   \n",
       "10037          548        504           547         621            816   \n",
       "10039          968       1035          1142        1198           1457   \n",
       "\n",
       "       male[12-19]  female[18-26]  male[18-26]  female[24-33]  male[24-33]  \\\n",
       "10026         1611           2594         2317           3416         2889   \n",
       "10027         3433           7986         6191           6582         5850   \n",
       "10030         1577           2226         1926           2615         2166   \n",
       "10037          829           1208         1040           1589         1158   \n",
       "10039         1453           1819         1714           2200         1722   \n",
       "\n",
       "       female[30-40]  male[30-40]  female[36-47]  male[36-47]  female[42-54]  \\\n",
       "10026           3410         2994           3511         3228           3451   \n",
       "10027           5065         4552           4796         4450           4901   \n",
       "10030           2447         2054           2570         2230           2768   \n",
       "10037           1573         1103           1668         1196           1818   \n",
       "10039           2268         1818           2287         1956           2398   \n",
       "\n",
       "       male[42-54]  female[48-61]  male[48-61]  female[65-102]  male[65-102]  \n",
       "10026         3272           3067         2792            1988          1168  \n",
       "10027         4544           4695         4091            3556          2112  \n",
       "10030         2366           2428         2094            1494          1010  \n",
       "10037         1338           1849         1242            2029           985  \n",
       "10039         1936           2180         1580            1834           904  "
      ]
     },
     "execution_count": 11,
     "metadata": {},
     "output_type": "execute_result"
    }
   ],
   "source": [
    "age_group_columns=['%s[%s-%s]'%(g,s,e) for s, e in age_groups.keys() for g in ['female', 'male']]\n",
    "df_age_gp = df[age_group_columns]\n",
    "df_age_gp.head()"
   ]
  },
  {
   "cell_type": "markdown",
   "metadata": {},
   "source": [
    "## Cluster's Zip Code"
   ]
  },
  {
   "cell_type": "code",
   "execution_count": 115,
   "metadata": {},
   "outputs": [],
   "source": [
    "C = [kmeans.best_estimator_.labels_==0,\n",
    "     kmeans.best_estimator_.labels_==1,\n",
    "     kmeans.best_estimator_.labels_==2,\n",
    "     kmeans.best_estimator_.labels_==3]"
   ]
  },
  {
   "cell_type": "code",
   "execution_count": 124,
   "metadata": {},
   "outputs": [
    {
     "data": {
      "text/plain": [
       "(\"Cluster's Zip Code\",\n",
       " {0: Int64Index([10026, 10030, 10019, 10036, 10035, 10010, 10022, 10012, 10013,\n",
       "              10014, 10021, 10028, 10065, 10075, 10034, 10040, 11205, 11217,\n",
       "              11231, 11232],\n",
       "             dtype='int64'),\n",
       "  1: Int64Index([10027, 10011, 10016, 10003, 10009, 10128, 10023, 10024, 10031,\n",
       "              10032, 10033, 11691, 11201, 11215, 11210, 11225],\n",
       "             dtype='int64'),\n",
       "  2: Int64Index([10037, 10039, 10001, 10018, 10020, 10017, 10004, 10005, 10006,\n",
       "              10007, 10038, 10280, 10044, 11692, 11693, 11694, 11697],\n",
       "             dtype='int64'),\n",
       "  3: Int64Index([10029, 10002, 10025, 11204, 11218, 11219, 11230, 11203, 11226,\n",
       "              11220],\n",
       "             dtype='int64')})"
      ]
     },
     "execution_count": 124,
     "metadata": {},
     "output_type": "execute_result"
    }
   ],
   "source": [
    "cluster_zip_code = {i: df_age_gp[c].index for i, c in enumerate(C)}\n",
    "\"Cluster's Zip Code\", cluster_zip_code"
   ]
  },
  {
   "cell_type": "code",
   "execution_count": 126,
   "metadata": {},
   "outputs": [],
   "source": [
    "pickle.dump(cluster_zip_code, open(\"cluster_zip_code.pkl\", \"wb\"))"
   ]
  },
  {
   "cell_type": "markdown",
   "metadata": {},
   "source": [
    "## Distribution of each Cluster"
   ]
  },
  {
   "cell_type": "code",
   "execution_count": 109,
   "metadata": {},
   "outputs": [],
   "source": [
    "def plot_cluster_distribution(cluster_idx):\n",
    "    c = kmeans.best_estimator_.labels_==cluster_idx\n",
    "    plt.bar(age_group_columns, np.sum(df_age_gp[c], axis=0)/np.sum(c), color=['pink', \"lightblue\"])\n",
    "    plt.xticks(rotation=90)\n",
    "    plt.ylabel(\"avg count per cluster\")\n",
    "    plt.title(\"Distribution of Cluster %s (Size: %s)\"%(cluster_idx,np.sum(c)))\n",
    "    plt.ylim([0, 8100])\n",
    "#     plt.show()"
   ]
  },
  {
   "cell_type": "code",
   "execution_count": 110,
   "metadata": {},
   "outputs": [
    {
     "data": {
      "image/png": "[encoded data removed]",
      "text/plain": [
       "<Figure size 1440x720 with 4 Axes>"
      ]
     },
     "metadata": {},
     "output_type": "display_data"
    }
   ],
   "source": [
    "plt.figure(figsize=(20,10))\n",
    "plt.subplots_adjust(hspace=0.5)\n",
    "plt.subplot(2,2,1); plot_cluster_distribution(cluster_idx=0)\n",
    "plt.subplot(2,2,2); plot_cluster_distribution(cluster_idx=1)\n",
    "plt.subplot(2,2,3); plot_cluster_distribution(cluster_idx=2)\n",
    "plt.subplot(2,2,4); plot_cluster_distribution(cluster_idx=3)\n",
    "pink_bar = mpatches.Patch(color='pink', label='female')\n",
    "blue_bar = mpatches.Patch(color='lightblue', label='male')\n",
    "plt.figlegend(handles=[pink_bar, blue_bar], loc='upper center', ncol=2, fontsize='xx-large')\n",
    "plt.show()"
   ]
  },
  {
   "cell_type": "code",
   "execution_count": null,
   "metadata": {},
   "outputs": [],
   "source": []
  }
 ],
 "metadata": {
  "kernelspec": {
   "display_name": "Python 3",
   "language": "python",
   "name": "python3"
  },
  "language_info": {
   "codemirror_mode": {
    "name": "ipython",
    "version": 3
   },
   "file_extension": ".py",
   "mimetype": "text/x-python",
   "name": "python",
   "nbconvert_exporter": "python",
   "pygments_lexer": "ipython3",
   "version": "3.6.5"
  }
 },
 "nbformat": 4,
 "nbformat_minor": 2
}
