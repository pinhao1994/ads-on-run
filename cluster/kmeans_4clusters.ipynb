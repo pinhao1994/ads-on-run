{
 "cells": [
  {
   "cell_type": "code",
   "execution_count": null,
   "metadata": {},
   "outputs": [],
   "source": [
    "# 0-5 6-12 13-17 18-24 25-34 35-44 45-54 55-64 65+"
   ]
  },
  {
   "cell_type": "code",
   "execution_count": null,
   "metadata": {},
   "outputs": [],
   "source": [
    "count = Counter(kmeans.best_estimator_.labels_)\n",
    "x_cluster, y_height = zip(*count.items())\n",
    "\n",
    "plt.bar(x=x_cluster, height=y_height, tick_label=x_cluster, color=[\"lightblue\", \"orange\"])\n",
    "for i, j in count.items(): plt.text(x=i-.1, y=j, s=j, fontdict={\"fontsize\": 15})\n",
    "plt.ylabel(\"count\")\n",
    "plt.xlabel(\"cluster #\")\n",
    "plt.title(\"count of each cluster\")\n",
    "plt.show()"
   ]
  },
  {
   "cell_type": "code",
   "execution_count": null,
   "metadata": {},
   "outputs": [],
   "source": [
    "from sklearn.manifold import TSNE\n",
    "fm_embedded = TSNE(n_components=2).fit_transform(fm)\n",
    "\n",
    "from sklearn.cluster import KMeans\n",
    "kmeans = KMeans(4).fit(fm)\n",
    "labels_km4 = kmeans.labels_\n",
    "plt.scatter(fm_embedded[:,0],fm_embedded[:,1], c = labels_km4)"
   ]
  }
 ],
 "metadata": {
  "kernelspec": {
   "display_name": "Python 3",
   "language": "python",
   "name": "python3"
  },
  "language_info": {
   "codemirror_mode": {
    "name": "ipython",
    "version": 3
   },
   "file_extension": ".py",
   "mimetype": "text/x-python",
   "name": "python",
   "nbconvert_exporter": "python",
   "pygments_lexer": "ipython3",
   "version": "3.6.5"
  }
 },
 "nbformat": 4,
 "nbformat_minor": 2
}
