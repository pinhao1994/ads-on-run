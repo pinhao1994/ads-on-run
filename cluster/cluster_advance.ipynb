{
 "cells": [
  {
   "cell_type": "code",
   "execution_count": 4,
   "metadata": {},
   "outputs": [],
   "source": [
    "import pandas as pd\n",
    "import numpy as np\n",
    "import matplotlib.pyplot as plt\n",
    "import warnings\n",
    "\n",
    "from sklearn.preprocessing import StandardScaler\n",
    "from sklearn.cluster import KMeans\n",
    "from sklearn.pipeline import make_pipeline\n",
    "from sklearn.model_selection import GridSearchCV\n",
    "from sklearn.metrics import silhouette_score\n",
    "\n",
    "warnings.filterwarnings(\"ignore\")"
   ]
  },
  {
   "cell_type": "code",
   "execution_count": 14,
   "metadata": {},
   "outputs": [
    {
     "name": "stdout",
     "output_type": "stream",
     "text": [
      "shape: (62, 27)\n"
     ]
    },
    {
     "data": {
      "text/html": [
       "<div>\n",
       "<style scoped>\n",
       "    .dataframe tbody tr th:only-of-type {\n",
       "        vertical-align: middle;\n",
       "    }\n",
       "\n",
       "    .dataframe tbody tr th {\n",
       "        vertical-align: top;\n",
       "    }\n",
       "\n",
       "    .dataframe thead th {\n",
       "        text-align: right;\n",
       "    }\n",
       "</style>\n",
       "<table border=\"1\" class=\"dataframe\">\n",
       "  <thead>\n",
       "    <tr style=\"text-align: right;\">\n",
       "      <th></th>\n",
       "      <th>female[0-9]</th>\n",
       "      <th>male[0-9]</th>\n",
       "      <th>female[10-19]</th>\n",
       "      <th>male[10-19]</th>\n",
       "      <th>female[20-29]</th>\n",
       "      <th>male[20-29]</th>\n",
       "      <th>female[30-39]</th>\n",
       "      <th>male[30-39]</th>\n",
       "      <th>female[40-49]</th>\n",
       "      <th>male[40-49]</th>\n",
       "      <th>...</th>\n",
       "      <th>50,000-75,000</th>\n",
       "      <th>75,000-100,000</th>\n",
       "      <th>100,000-200,000</th>\n",
       "      <th>200,000-...</th>\n",
       "      <th>stadium_count</th>\n",
       "      <th>shoes_count</th>\n",
       "      <th>restaurant_count</th>\n",
       "      <th>gym_count</th>\n",
       "      <th>clothes_count</th>\n",
       "      <th>clinic_count</th>\n",
       "    </tr>\n",
       "  </thead>\n",
       "  <tbody>\n",
       "    <tr>\n",
       "      <th>10026</th>\n",
       "      <td>0.059201</td>\n",
       "      <td>0.056966</td>\n",
       "      <td>0.058436</td>\n",
       "      <td>0.059289</td>\n",
       "      <td>0.094345</td>\n",
       "      <td>0.08111</td>\n",
       "      <td>0.092021</td>\n",
       "      <td>0.078905</td>\n",
       "      <td>0.083287</td>\n",
       "      <td>0.079199</td>\n",
       "      <td>...</td>\n",
       "      <td>0.136957</td>\n",
       "      <td>0.078261</td>\n",
       "      <td>0.100000</td>\n",
       "      <td>0.053261</td>\n",
       "      <td>0.0</td>\n",
       "      <td>0.0</td>\n",
       "      <td>18.0</td>\n",
       "      <td>0.0</td>\n",
       "      <td>0.0</td>\n",
       "      <td>1.0</td>\n",
       "    </tr>\n",
       "    <tr>\n",
       "      <th>10027</th>\n",
       "      <td>0.050966</td>\n",
       "      <td>0.050011</td>\n",
       "      <td>0.077194</td>\n",
       "      <td>0.067228</td>\n",
       "      <td>0.131140</td>\n",
       "      <td>0.10853</td>\n",
       "      <td>0.077478</td>\n",
       "      <td>0.069054</td>\n",
       "      <td>0.066776</td>\n",
       "      <td>0.061601</td>\n",
       "      <td>...</td>\n",
       "      <td>0.126863</td>\n",
       "      <td>0.064340</td>\n",
       "      <td>0.086514</td>\n",
       "      <td>0.046529</td>\n",
       "      <td>0.0</td>\n",
       "      <td>2.0</td>\n",
       "      <td>25.0</td>\n",
       "      <td>4.0</td>\n",
       "      <td>5.0</td>\n",
       "      <td>1.0</td>\n",
       "    </tr>\n",
       "  </tbody>\n",
       "</table>\n",
       "<p>2 rows × 27 columns</p>\n",
       "</div>"
      ],
      "text/plain": [
       "       female[0-9]  male[0-9]  female[10-19]  male[10-19]  female[20-29]  \\\n",
       "10026     0.059201   0.056966       0.058436     0.059289       0.094345   \n",
       "10027     0.050966   0.050011       0.077194     0.067228       0.131140   \n",
       "\n",
       "       male[20-29]  female[30-39]  male[30-39]  female[40-49]  male[40-49]  \\\n",
       "10026      0.08111       0.092021     0.078905       0.083287     0.079199   \n",
       "10027      0.10853       0.077478     0.069054       0.066776     0.061601   \n",
       "\n",
       "           ...       50,000-75,000  75,000-100,000  100,000-200,000  \\\n",
       "10026      ...            0.136957        0.078261         0.100000   \n",
       "10027      ...            0.126863        0.064340         0.086514   \n",
       "\n",
       "       200,000-...  stadium_count  shoes_count  restaurant_count  gym_count  \\\n",
       "10026     0.053261            0.0          0.0              18.0        0.0   \n",
       "10027     0.046529            0.0          2.0              25.0        4.0   \n",
       "\n",
       "       clothes_count  clinic_count  \n",
       "10026            0.0           1.0  \n",
       "10027            5.0           1.0  \n",
       "\n",
       "[2 rows x 27 columns]"
      ]
     },
     "execution_count": 14,
     "metadata": {},
     "output_type": "execute_result"
    }
   ],
   "source": [
    "df_main = pd.read_csv(\"zip_code_age_lg_wealth_osm_percentage.csv\", index_col=\"Unnamed: 0\")\n",
    "df_main = df_main.drop(index=10020)  # missing all the data\n",
    "print(f'shape: {df_main.shape}')\n",
    "df_main.head(2)"
   ]
  },
  {
   "cell_type": "code",
   "execution_count": 13,
   "metadata": {},
   "outputs": [
    {
     "name": "stdout",
     "output_type": "stream",
     "text": [
      "stadium sparsity: 0.9193548387096774\n",
      "shoes sparsity: 0.43548387096774194\n",
      "restaurant sparsity: 0.04838709677419355\n",
      "gym sparsity: 0.5\n",
      "clothes sparsity: 0.3870967741935484\n",
      "clinic sparsity: 0.43548387096774194\n"
     ]
    }
   ],
   "source": [
    "for osm in ['stadium', 'shoes', 'restaurant', 'gym', 'clothes', 'clinic']:\n",
    "    col_name = f'{osm}_count'\n",
    "    sparsity = np.sum(df_main[col_name]==0) / df_main.shape[0]\n",
    "    print(f'{osm} sparsity: {sparsity}')"
   ]
  },
  {
   "cell_type": "code",
   "execution_count": 16,
   "metadata": {},
   "outputs": [
    {
     "data": {
      "text/plain": [
       "(62, 26)"
      ]
     },
     "execution_count": 16,
     "metadata": {},
     "output_type": "execute_result"
    }
   ],
   "source": [
    "mask = df_main.columns[df_main.columns!='stadium_count']\n",
    "df_main = df_main[mask]\n",
    "df_main.shape"
   ]
  },
  {
   "cell_type": "markdown",
   "metadata": {},
   "source": [
    "## Design a Model"
   ]
  },
  {
   "cell_type": "code",
   "execution_count": 22,
   "metadata": {},
   "outputs": [
    {
     "data": {
      "text/plain": [
       "{'kmeans__n_clusters': 10}"
      ]
     },
     "execution_count": 22,
     "metadata": {},
     "output_type": "execute_result"
    }
   ],
   "source": [
    "params = {\"kmeans__n_clusters\": [2, 3, 4, 5, 10]}\n",
    "pipe = make_pipeline(StandardScaler(), KMeans())\n",
    "kmeans = GridSearchCV(pipe, param_grid=params, cv=10)\n",
    "kmeans.fit(df_main)\n",
    "kmeans.best_params_"
   ]
  },
  {
   "cell_type": "code",
   "execution_count": null,
   "metadata": {},
   "outputs": [],
   "source": []
  }
 ],
 "metadata": {
  "kernelspec": {
   "display_name": "SP",
   "language": "python",
   "name": "sp"
  },
  "language_info": {
   "codemirror_mode": {
    "name": "ipython",
    "version": 3
   },
   "file_extension": ".py",
   "mimetype": "text/x-python",
   "name": "python",
   "nbconvert_exporter": "python",
   "pygments_lexer": "ipython3",
   "version": "3.6.6"
  }
 },
 "nbformat": 4,
 "nbformat_minor": 2
}
