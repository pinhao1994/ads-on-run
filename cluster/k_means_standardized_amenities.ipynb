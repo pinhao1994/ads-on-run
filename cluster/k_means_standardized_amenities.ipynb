{
 "cells": [
  {
   "cell_type": "code",
   "execution_count": 1,
   "metadata": {},
   "outputs": [],
   "source": [
    "import pandas as pd\n",
    "import numpy as np\n",
    "import matplotlib.pyplot as plt\n",
    "import matplotlib.cm as cm\n",
    "import pickle\n",
    "import warnings\n",
    "\n",
    "warnings.filterwarnings(\"ignore\")"
   ]
  },
  {
   "cell_type": "code",
   "execution_count": 2,
   "metadata": {},
   "outputs": [],
   "source": [
    "from util import silhouette_plot, cluster_stability\n",
    "from collections import Counter\n",
    "from scipy.cluster.hierarchy import dendrogram, ward\n",
    "from sklearn.cluster import KMeans\n",
    "from sklearn.metrics import silhouette_score\n",
    "from sklearn.manifold import TSNE\n",
    "from sklearn.model_selection import GridSearchCV\n",
    "from sklearn.preprocessing import StandardScaler, MaxAbsScaler"
   ]
  },
  {
   "cell_type": "code",
   "execution_count": 3,
   "metadata": {},
   "outputs": [
    {
     "data": {
      "text/html": [
       "<div>\n",
       "<style scoped>\n",
       "    .dataframe tbody tr th:only-of-type {\n",
       "        vertical-align: middle;\n",
       "    }\n",
       "\n",
       "    .dataframe tbody tr th {\n",
       "        vertical-align: top;\n",
       "    }\n",
       "\n",
       "    .dataframe thead th {\n",
       "        text-align: right;\n",
       "    }\n",
       "</style>\n",
       "<table border=\"1\" class=\"dataframe\">\n",
       "  <thead>\n",
       "    <tr style=\"text-align: right;\">\n",
       "      <th></th>\n",
       "      <th>female[0-9]</th>\n",
       "      <th>male[0-9]</th>\n",
       "      <th>female[10-19]</th>\n",
       "      <th>male[10-19]</th>\n",
       "      <th>female[20-29]</th>\n",
       "      <th>male[20-29]</th>\n",
       "      <th>female[30-39]</th>\n",
       "      <th>male[30-39]</th>\n",
       "      <th>female[40-49]</th>\n",
       "      <th>male[40-49]</th>\n",
       "      <th>...</th>\n",
       "      <th>50,000-75,000</th>\n",
       "      <th>75,000-100,000</th>\n",
       "      <th>100,000-200,000</th>\n",
       "      <th>200,000-...</th>\n",
       "      <th>stadium_count</th>\n",
       "      <th>shoes_count</th>\n",
       "      <th>restaurant_count</th>\n",
       "      <th>gym_count</th>\n",
       "      <th>clothes_count</th>\n",
       "      <th>clinic_count</th>\n",
       "    </tr>\n",
       "  </thead>\n",
       "  <tbody>\n",
       "    <tr>\n",
       "      <th>10026</th>\n",
       "      <td>0.059201</td>\n",
       "      <td>0.056966</td>\n",
       "      <td>0.058436</td>\n",
       "      <td>0.059289</td>\n",
       "      <td>0.094345</td>\n",
       "      <td>0.081110</td>\n",
       "      <td>0.092021</td>\n",
       "      <td>0.078905</td>\n",
       "      <td>0.083287</td>\n",
       "      <td>0.079199</td>\n",
       "      <td>...</td>\n",
       "      <td>0.136957</td>\n",
       "      <td>0.078261</td>\n",
       "      <td>0.100000</td>\n",
       "      <td>0.053261</td>\n",
       "      <td>0.0</td>\n",
       "      <td>0.0</td>\n",
       "      <td>18.0</td>\n",
       "      <td>0.0</td>\n",
       "      <td>0.0</td>\n",
       "      <td>1.0</td>\n",
       "    </tr>\n",
       "    <tr>\n",
       "      <th>10027</th>\n",
       "      <td>0.050966</td>\n",
       "      <td>0.050011</td>\n",
       "      <td>0.077194</td>\n",
       "      <td>0.067228</td>\n",
       "      <td>0.131140</td>\n",
       "      <td>0.108530</td>\n",
       "      <td>0.077478</td>\n",
       "      <td>0.069054</td>\n",
       "      <td>0.066776</td>\n",
       "      <td>0.061601</td>\n",
       "      <td>...</td>\n",
       "      <td>0.126863</td>\n",
       "      <td>0.064340</td>\n",
       "      <td>0.086514</td>\n",
       "      <td>0.046529</td>\n",
       "      <td>0.0</td>\n",
       "      <td>2.0</td>\n",
       "      <td>25.0</td>\n",
       "      <td>4.0</td>\n",
       "      <td>5.0</td>\n",
       "      <td>1.0</td>\n",
       "    </tr>\n",
       "    <tr>\n",
       "      <th>10030</th>\n",
       "      <td>0.061002</td>\n",
       "      <td>0.062484</td>\n",
       "      <td>0.070706</td>\n",
       "      <td>0.071484</td>\n",
       "      <td>0.096892</td>\n",
       "      <td>0.080744</td>\n",
       "      <td>0.081522</td>\n",
       "      <td>0.067521</td>\n",
       "      <td>0.081929</td>\n",
       "      <td>0.070929</td>\n",
       "      <td>...</td>\n",
       "      <td>0.128168</td>\n",
       "      <td>0.052860</td>\n",
       "      <td>0.047791</td>\n",
       "      <td>0.013034</td>\n",
       "      <td>0.0</td>\n",
       "      <td>0.0</td>\n",
       "      <td>6.0</td>\n",
       "      <td>1.0</td>\n",
       "      <td>0.0</td>\n",
       "      <td>0.0</td>\n",
       "    </tr>\n",
       "    <tr>\n",
       "      <th>10037</th>\n",
       "      <td>0.049150</td>\n",
       "      <td>0.049265</td>\n",
       "      <td>0.056213</td>\n",
       "      <td>0.057648</td>\n",
       "      <td>0.085209</td>\n",
       "      <td>0.068098</td>\n",
       "      <td>0.081477</td>\n",
       "      <td>0.056442</td>\n",
       "      <td>0.081994</td>\n",
       "      <td>0.060232</td>\n",
       "      <td>...</td>\n",
       "      <td>0.176362</td>\n",
       "      <td>0.093259</td>\n",
       "      <td>0.084026</td>\n",
       "      <td>0.012004</td>\n",
       "      <td>0.0</td>\n",
       "      <td>0.0</td>\n",
       "      <td>2.0</td>\n",
       "      <td>1.0</td>\n",
       "      <td>0.0</td>\n",
       "      <td>0.0</td>\n",
       "    </tr>\n",
       "    <tr>\n",
       "      <th>10039</th>\n",
       "      <td>0.066172</td>\n",
       "      <td>0.070494</td>\n",
       "      <td>0.073715</td>\n",
       "      <td>0.072940</td>\n",
       "      <td>0.085905</td>\n",
       "      <td>0.075142</td>\n",
       "      <td>0.083541</td>\n",
       "      <td>0.066172</td>\n",
       "      <td>0.079097</td>\n",
       "      <td>0.066090</td>\n",
       "      <td>...</td>\n",
       "      <td>0.128866</td>\n",
       "      <td>0.055228</td>\n",
       "      <td>0.050074</td>\n",
       "      <td>0.011782</td>\n",
       "      <td>0.0</td>\n",
       "      <td>0.0</td>\n",
       "      <td>0.0</td>\n",
       "      <td>0.0</td>\n",
       "      <td>0.0</td>\n",
       "      <td>0.0</td>\n",
       "    </tr>\n",
       "  </tbody>\n",
       "</table>\n",
       "<p>5 rows × 27 columns</p>\n",
       "</div>"
      ],
      "text/plain": [
       "       female[0-9]  male[0-9]  female[10-19]  male[10-19]  female[20-29]  \\\n",
       "10026     0.059201   0.056966       0.058436     0.059289       0.094345   \n",
       "10027     0.050966   0.050011       0.077194     0.067228       0.131140   \n",
       "10030     0.061002   0.062484       0.070706     0.071484       0.096892   \n",
       "10037     0.049150   0.049265       0.056213     0.057648       0.085209   \n",
       "10039     0.066172   0.070494       0.073715     0.072940       0.085905   \n",
       "\n",
       "       male[20-29]  female[30-39]  male[30-39]  female[40-49]  male[40-49]  \\\n",
       "10026     0.081110       0.092021     0.078905       0.083287     0.079199   \n",
       "10027     0.108530       0.077478     0.069054       0.066776     0.061601   \n",
       "10030     0.080744       0.081522     0.067521       0.081929     0.070929   \n",
       "10037     0.068098       0.081477     0.056442       0.081994     0.060232   \n",
       "10039     0.075142       0.083541     0.066172       0.079097     0.066090   \n",
       "\n",
       "           ...       50,000-75,000  75,000-100,000  100,000-200,000  \\\n",
       "10026      ...            0.136957        0.078261         0.100000   \n",
       "10027      ...            0.126863        0.064340         0.086514   \n",
       "10030      ...            0.128168        0.052860         0.047791   \n",
       "10037      ...            0.176362        0.093259         0.084026   \n",
       "10039      ...            0.128866        0.055228         0.050074   \n",
       "\n",
       "       200,000-...  stadium_count  shoes_count  restaurant_count  gym_count  \\\n",
       "10026     0.053261            0.0          0.0              18.0        0.0   \n",
       "10027     0.046529            0.0          2.0              25.0        4.0   \n",
       "10030     0.013034            0.0          0.0               6.0        1.0   \n",
       "10037     0.012004            0.0          0.0               2.0        1.0   \n",
       "10039     0.011782            0.0          0.0               0.0        0.0   \n",
       "\n",
       "       clothes_count  clinic_count  \n",
       "10026            0.0           1.0  \n",
       "10027            5.0           1.0  \n",
       "10030            0.0           0.0  \n",
       "10037            0.0           0.0  \n",
       "10039            0.0           0.0  \n",
       "\n",
       "[5 rows x 27 columns]"
      ]
     },
     "execution_count": 3,
     "metadata": {},
     "output_type": "execute_result"
    }
   ],
   "source": [
    "df_main = pd.read_csv(\"zip_code_age_lg_wealth_osm_percentage.csv\", index_col=\"Unnamed: 0\")\n",
    "df_main = df_main.drop(index=10020)  # missing all the data\n",
    "df_main.head()"
   ]
  },
  {
   "cell_type": "code",
   "execution_count": 4,
   "metadata": {},
   "outputs": [
    {
     "name": "stdout",
     "output_type": "stream",
     "text": [
      "stadium sparsity: 0.9193548387096774\n",
      "shoes sparsity: 0.43548387096774194\n",
      "restaurant sparsity: 0.04838709677419355\n",
      "gym sparsity: 0.5\n",
      "clothes sparsity: 0.3870967741935484\n",
      "clinic sparsity: 0.43548387096774194\n"
     ]
    }
   ],
   "source": [
    "for osm in ['stadium', 'shoes', 'restaurant', 'gym', 'clothes', 'clinic']:\n",
    "    col_name = f'{osm}_count'\n",
    "    sparsity = np.sum(df_main[col_name]==0) / df_main.shape[0]\n",
    "    print(f'{osm} sparsity: {sparsity}')"
   ]
  },
  {
   "cell_type": "code",
   "execution_count": 5,
   "metadata": {},
   "outputs": [
    {
     "data": {
      "text/plain": [
       "(62, 26)"
      ]
     },
     "execution_count": 5,
     "metadata": {},
     "output_type": "execute_result"
    }
   ],
   "source": [
    "mask = df_main.columns[df_main.columns!='stadium_count']\n",
    "df_main = df_main[mask]\n",
    "df_main.shape"
   ]
  },
  {
   "cell_type": "code",
   "execution_count": 6,
   "metadata": {},
   "outputs": [
    {
     "data": {
      "text/plain": [
       "Index(['female[0-9]', 'male[0-9]', 'female[10-19]', 'male[10-19]',\n",
       "       'female[20-29]', 'male[20-29]', 'female[30-39]', 'male[30-39]',\n",
       "       'female[40-49]', 'male[40-49]', 'female[50-59]', 'male[50-59]',\n",
       "       'female[60-102]', 'male[60-102]', 'population', '1-25,000',\n",
       "       '25,000-50,000', '50,000-75,000', '75,000-100,000', '100,000-200,000',\n",
       "       '200,000-...', 'shoes_count', 'restaurant_count', 'gym_count',\n",
       "       'clothes_count', 'clinic_count'],\n",
       "      dtype='object')"
      ]
     },
     "execution_count": 6,
     "metadata": {},
     "output_type": "execute_result"
    }
   ],
   "source": [
    "df_main.columns"
   ]
  },
  {
   "cell_type": "code",
   "execution_count": 7,
   "metadata": {},
   "outputs": [],
   "source": [
    "df_main['shoes_count'] = df_main['shoes_count']/df_main['population']\n",
    "df_main['restaurant_count'] = df_main['restaurant_count']/df_main['population']\n",
    "df_main['gym_count'] = df_main['gym_count']/df_main['population']\n",
    "df_main['clothes_count'] = df_main['clothes_count']/df_main['population']\n",
    "df_main['clinic_count'] = df_main['clinic_count']/df_main['population']"
   ]
  },
  {
   "cell_type": "code",
   "execution_count": 8,
   "metadata": {},
   "outputs": [],
   "source": [
    "sc = StandardScaler()\n",
    "df_main['population'] = sc.fit_transform(df_main[['population']])"
   ]
  },
  {
   "cell_type": "markdown",
   "metadata": {},
   "source": [
    "### Dendrogram"
   ]
  },
  {
   "cell_type": "code",
   "execution_count": 9,
   "metadata": {},
   "outputs": [
    {
     "data": {
      "image/png": "[encoded data removed]",
      "text/plain": [
       "<Figure size 1440x360 with 1 Axes>"
      ]
     },
     "metadata": {
      "needs_background": "light"
     },
     "output_type": "display_data"
    }
   ],
   "source": [
    "plt.figure(figsize=(20, 5))\n",
    "linkage_array = ward(df_main)\n",
    "dendrogram(linkage_array, leaf_font_size=12)\n",
    "\n",
    "h_line = [7, 3.5, 1.7]\n",
    "\n",
    "ax = plt.gca()\n",
    "bounds = ax.get_xbound()\n",
    "ax.plot(bounds, [h_line[0], h_line[0]], '--', c='grey')\n",
    "ax.plot(bounds, [h_line[1], h_line[1]], '--', c='grey')\n",
    "ax.plot(bounds, [h_line[2], h_line[2]], '--', c='grey')\n",
    "\n",
    "ax.text(bounds[1]+5, h_line[0], 'two clusters', va='center', fontdict={'size': 15})\n",
    "ax.text(bounds[1]+5, h_line[1], 'three clusters', va='center', fontdict={'size': 15})\n",
    "ax.text(bounds[1]+5, h_line[2], 'five clusters', va='center', fontdict={'size': 15})\n",
    "\n",
    "ax.set_xlabel(\"index\")\n",
    "ax.set_ylabel(\"cluster distance\")\n",
    "ax.set_xticklabels([df_main.index[int(i.get_text())] for i in ax.get_xticklabels()])\n",
    "ax.set_title(\"Dendrogram\")\n",
    "plt.show()"
   ]
  },
  {
   "cell_type": "code",
   "execution_count": 10,
   "metadata": {},
   "outputs": [],
   "source": [
    "from sklearn.cluster import KMeans\n",
    "from sklearn.model_selection import GridSearchCV\n",
    "from sklearn.metrics import silhouette_score, silhouette_samples,adjusted_rand_score\n",
    "from sklearn.base import clone"
   ]
  },
  {
   "cell_type": "code",
   "execution_count": 11,
   "metadata": {},
   "outputs": [
    {
     "name": "stdout",
     "output_type": "stream",
     "text": [
      "N: 3 | silhouette: 0.5267 | stability: 0.7203\n",
      "N: 4 | silhouette: 0.4808 | stability: 0.7902\n",
      "N: 5 | silhouette: 0.4521 | stability: 0.7106\n",
      "N: 6 | silhouette: 0.4465 | stability: 0.6655\n"
     ]
    }
   ],
   "source": [
    "params = {\"n_clusters\": [3, 4, 5, 6]}\n",
    "cv = 20\n",
    "for n in params[\"n_clusters\"]:\n",
    "    scores = list()\n",
    "    for _ in range(cv):\n",
    "        base_km = KMeans(n_clusters=n)\n",
    "        base_km.fit(df_main)\n",
    "        scores.append(silhouette_score(df_main, base_km.labels_))\n",
    "    _, s2 = cluster_stability(df_main, KMeans(n_clusters=n), n_iter=cv)\n",
    "    print(f\"N: {n} | silhouette: {np.mean(scores):.4f} | stability: {s2:.4f}\")"
   ]
  },
  {
   "cell_type": "markdown",
   "metadata": {},
   "source": [
    "## Gradient Descent"
   ]
  },
  {
   "cell_type": "code",
   "execution_count": 12,
   "metadata": {},
   "outputs": [
    {
     "data": {
      "text/plain": [
       "KMeans(algorithm='auto', copy_x=True, init='k-means++', max_iter=300,\n",
       "    n_clusters=4, n_init=10, n_jobs=None, precompute_distances='auto',\n",
       "    random_state=None, tol=0.0001, verbose=0)"
      ]
     },
     "execution_count": 12,
     "metadata": {},
     "output_type": "execute_result"
    }
   ],
   "source": [
    "kmeans = KMeans(n_clusters=4)\n",
    "kmeans.fit(df_main)"
   ]
  },
  {
   "cell_type": "code",
   "execution_count": 13,
   "metadata": {},
   "outputs": [
    {
     "data": {
      "image/png": "[encoded data removed]",
      "text/plain": [
       "<Figure size 432x288 with 1 Axes>"
      ]
     },
     "metadata": {
      "needs_background": "light"
     },
     "output_type": "display_data"
    }
   ],
   "source": [
    "silhouette_plot(df_main, kmeans.labels_, 4, score=0.4808)"
   ]
  },
  {
   "cell_type": "code",
   "execution_count": 14,
   "metadata": {},
   "outputs": [],
   "source": [
    "from scipy.spatial.distance import cdist, pdist\n",
    "from shapely.geometry import LineString, Point"
   ]
  },
  {
   "cell_type": "code",
   "execution_count": 15,
   "metadata": {},
   "outputs": [
    {
     "data": {
      "image/png": "[encoded data removed]",
      "text/plain": [
       "<Figure size 432x288 with 1 Axes>"
      ]
     },
     "metadata": {
      "needs_background": "light"
     },
     "output_type": "display_data"
    }
   ],
   "source": [
    "count = Counter(kmeans.labels_)\n",
    "x_cluster, y_height = zip(*count.items())\n",
    "\n",
    "plt.bar(x=x_cluster, height=y_height, tick_label=x_cluster, color=[\"lightblue\", \"orange\"])\n",
    "for i, j in count.items(): plt.text(x=i-.1, y=j, s=j, fontdict={\"fontsize\": 15})\n",
    "plt.ylabel(\"count\")\n",
    "plt.xlabel(\"cluster #\")\n",
    "plt.title(\"count of each cluster\")\n",
    "plt.show()"
   ]
  },
  {
   "cell_type": "code",
   "execution_count": 17,
   "metadata": {},
   "outputs": [
    {
     "data": {
      "image/png": "[encoded data removed]",
      "text/plain": [
       "<Figure size 432x288 with 1 Axes>"
      ]
     },
     "metadata": {
      "needs_background": "light"
     },
     "output_type": "display_data"
    }
   ],
   "source": [
    "tsne_embedded = TSNE(n_components=2).fit_transform(df_main)\n",
    "labels_km4 = kmeans.labels_\n",
    "plt.scatter(tsne_embedded[:,0], tsne_embedded[:,1], c=labels_km4)\n",
    "plt.show()"
   ]
  },
  {
   "cell_type": "code",
   "execution_count": 18,
   "metadata": {},
   "outputs": [],
   "source": [
    "C = [kmeans.labels_==0,\n",
    "     kmeans.labels_==1,\n",
    "     kmeans.labels_==2,\n",
    "     kmeans.labels_==3]"
   ]
  },
  {
   "cell_type": "code",
   "execution_count": 19,
   "metadata": {},
   "outputs": [
    {
     "data": {
      "text/plain": [
       "(\"Cluster's Zip Code\",\n",
       " {0: Int64Index([10029, 10002, 10025, 11204, 11218, 11219, 11230, 11203, 11226,\n",
       "              11220],\n",
       "             dtype='int64'),\n",
       "  1: Int64Index([10037, 10001, 10018, 10017, 10004, 10005, 10006, 10007, 10038,\n",
       "              10280, 10044, 11692, 11693, 11694, 11697],\n",
       "             dtype='int64'),\n",
       "  2: Int64Index([10027, 10011, 10016, 10003, 10009, 10128, 10023, 10024, 10031,\n",
       "              10032, 10033, 11691, 11201, 11215, 11210, 11225],\n",
       "             dtype='int64'),\n",
       "  3: Int64Index([10026, 10030, 10039, 10019, 10036, 10035, 10010, 10022, 10012,\n",
       "              10013, 10014, 10021, 10028, 10065, 10075, 10034, 10040, 11205,\n",
       "              11217, 11231, 11232],\n",
       "             dtype='int64')})"
      ]
     },
     "execution_count": 19,
     "metadata": {},
     "output_type": "execute_result"
    }
   ],
   "source": [
    "cluster_zip_code = {i: df_main[c].index for i, c in enumerate(C)}\n",
    "\"Cluster's Zip Code\", cluster_zip_code"
   ]
  },
  {
   "cell_type": "code",
   "execution_count": null,
   "metadata": {},
   "outputs": [],
   "source": []
  }
 ],
 "metadata": {
  "kernelspec": {
   "display_name": "SP",
   "language": "python",
   "name": "sp"
  },
  "language_info": {
   "codemirror_mode": {
    "name": "ipython",
    "version": 3
   },
   "file_extension": ".py",
   "mimetype": "text/x-python",
   "name": "python",
   "nbconvert_exporter": "python",
   "pygments_lexer": "ipython3",
   "version": "3.6.6"
  }
 },
 "nbformat": 4,
 "nbformat_minor": 2
}
