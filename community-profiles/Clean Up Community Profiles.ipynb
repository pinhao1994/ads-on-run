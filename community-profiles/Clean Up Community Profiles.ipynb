{
 "cells": [
  {
   "cell_type": "code",
   "execution_count": 1,
   "metadata": {},
   "outputs": [],
   "source": [
    "import pandas as pd\n",
    "import os"
   ]
  },
  {
   "cell_type": "code",
   "execution_count": 2,
   "metadata": {},
   "outputs": [],
   "source": [
    "columns_required = ['poverty_rate_nyc',\n",
    "                    'poverty_rate_boro',\n",
    "                    'poverty_rate', \n",
    "                    'crime_count', \n",
    "                    'crime_count_nyc', \n",
    "                    'crime_count_boro', \n",
    "                    'pop_2010', \n",
    "                    'female_85_over', \n",
    "                    'male_85_over',\n",
    "                    'female_80_84',\n",
    "                    'male_80_84',\n",
    "                    'female_75_79',\n",
    "                    'male_75_79',\n",
    "                    'female_70_74',\n",
    "                    'male_70_74',\n",
    "                    'female_65_69',\n",
    "                    'male_65_69',\n",
    "                    'female_60_64',\n",
    "                    'male_60_64',\n",
    "                    'female_55_59',\n",
    "                    'male_55_59',\n",
    "                    'female_50_54',\n",
    "                    'male_50_54',\n",
    "                    'female_45_49',\n",
    "                    'male_45_49',\n",
    "                    'female_40_44',\n",
    "                    'male_40_44',\n",
    "                    'female_35_39',\n",
    "                    'male_35_39',\n",
    "                    'female_30_34',\n",
    "                    'male_30_34',\n",
    "                    'female_25_29',\n",
    "                    'male_25_29',\n",
    "                    'female_20_24',\n",
    "                    'male_20_24',\n",
    "                    'female_15_19',\n",
    "                    'male_15_19',\n",
    "                    'female_10_14',\n",
    "                    'male_10_14',\n",
    "                    'female_5_9',\n",
    "                    'male_5_9',\n",
    "                    'female_under_5',\n",
    "                    'male_under_5']"
   ]
  },
  {
   "cell_type": "code",
   "execution_count": 7,
   "metadata": {},
   "outputs": [],
   "source": [
    "for filename in os.listdir(os.getcwd()):\n",
    "    if '.csv' in filename:\n",
    "        df = pd.read_csv(filename)\n",
    "        cleaned_df = df[columns_required]\n",
    "        cleaned_df_stats = cleaned_df.describe()\n",
    "        cleaned_df_string = str(os.getcwd()) + '/Cleaned/cleaned_' + filename\n",
    "        cleaned_df_stats_string = str(os.getcwd()) + '/Cleaned/stats_cleaned_' + filename\n",
    "        cleaned_df.to_csv(cleaned_df_string)\n",
    "        cleaned_df_stats.to_csv(cleaned_df_stats_string)"
   ]
  },
  {
   "cell_type": "code",
   "execution_count": null,
   "metadata": {},
   "outputs": [],
   "source": []
  }
 ],
 "metadata": {
  "kernelspec": {
   "display_name": "Python 3",
   "language": "python",
   "name": "python3"
  },
  "language_info": {
   "codemirror_mode": {
    "name": "ipython",
    "version": 3
   },
   "file_extension": ".py",
   "mimetype": "text/x-python",
   "name": "python",
   "nbconvert_exporter": "python",
   "pygments_lexer": "ipython3",
   "version": "3.6.3"
  }
 },
 "nbformat": 4,
 "nbformat_minor": 2
}
