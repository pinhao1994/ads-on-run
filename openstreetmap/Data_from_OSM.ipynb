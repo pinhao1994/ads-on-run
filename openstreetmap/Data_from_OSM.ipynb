{
 "cells": [
  {
   "cell_type": "markdown",
   "metadata": {},
   "source": [
    "# Data_from_OSM (pd & geopf)\n",
    "# Warning: Not all the results are in NYC. Please use sjoin."
   ]
  },
  {
   "cell_type": "code",
   "execution_count": 39,
   "metadata": {},
   "outputs": [],
   "source": [
    "import requests\n",
    "import json\n",
    "import pandas as pd\n",
    "import geopandas as gpd\n",
    "from shapely.geometry import Point\n",
    "from geopandas.tools import sjoin"
   ]
  },
  {
   "cell_type": "code",
   "execution_count": 4,
   "metadata": {},
   "outputs": [],
   "source": [
    "from pprint import pprint\n",
    "from collections import MutableMapping\n",
    "def flatten(d, parent_key='', sep='_'):\n",
    "    items = []\n",
    "    for k, v in d.items():\n",
    "        new_key = '{0}{1}{2}'.format(parent_key,sep,k) if parent_key else k\n",
    "        if isinstance(v, MutableMapping):\n",
    "            items.extend(flatten(v, new_key, sep=sep).items())\n",
    "        elif isinstance(v, list):\n",
    "            # apply itself to each element of the list - that's it!\n",
    "            items.append((new_key, map(flatten, v)))\n",
    "        else:\n",
    "            items.append((new_key, v))\n",
    "    return dict(items)"
   ]
  },
  {
   "cell_type": "code",
   "execution_count": 88,
   "metadata": {},
   "outputs": [],
   "source": [
    "def dict_to_dataframe(data):\n",
    "    dict_flat = []\n",
    "    for element in data['elements']:\n",
    "        dict_flat.append(flatten(element))\n",
    "    pd_1 = pd.DataFrame.from_dict(dict_flat)\n",
    "    if 'lat' in list(pd_1.columns.values):\n",
    "        pd_2 = pd_1[['type', 'id', 'lat', 'lon', 'center_lat', 'center_lon', 'tags_addr:city', 'tags_amenity', 'tags_name']]\n",
    "        for index, row in pd_2.iterrows():\n",
    "            if row['type'] != 'node':\n",
    "                pd_2.loc[index, 'lat'] = row['center_lat']\n",
    "                pd_2.loc[index, 'lon'] = row['center_lon']\n",
    "        pd_3 = pd_2.drop(['center_lat','center_lon'], axis=1)\n",
    "        return pd_3\n",
    "    else:\n",
    "        pd_2 = pd_1[['type', 'id', 'center_lat', 'center_lon', 'tags_addr:city', 'tags_amenity', 'tags_name']]\n",
    "        pd_2 = pd_2.rename(columns = {'center_lat':'lat', 'center_lon':'lon'})   \n",
    "        return pd_2\n",
    "    \n",
    "    \n",
    "    \n",
    "    \n",
    "    \n",
    "    \n",
    "    \n",
    "    \n",
    "    "
   ]
  },
  {
   "cell_type": "code",
   "execution_count": 49,
   "metadata": {},
   "outputs": [],
   "source": [
    "def df_to_geodf(df):\n",
    "    df_1 = df\n",
    "    df_1['geometry'] = df_1.apply(lambda row: Point(row.lat, row.lon), axis=1)\n",
    "    return df_1"
   ]
  },
  {
   "cell_type": "markdown",
   "metadata": {},
   "source": [
    "# Restaurant"
   ]
  },
  {
   "cell_type": "code",
   "execution_count": 3,
   "metadata": {},
   "outputs": [],
   "source": [
    "overpass_url = \"http://overpass-api.de/api/interpreter\"\n",
    "overpass_query = \"\"\"\n",
    "[out:json];\n",
    "node[\"amenity\"=\"restaurant\"](40.499479, -74.288986, 40.932319, -73.709685);\n",
    "out;\n",
    "way[\"amenity\"=\"restaurant\"](40.499479, -74.288986, 40.932319, -73.709685);\n",
    "out center;\n",
    "relation[\"amenity\"=\"restaurant\"](40.499479, -74.288986, 40.932319, -73.709685);\n",
    "out center;\n",
    "\"\"\"\n",
    "response = requests.get(overpass_url, \n",
    "                        params={'data': overpass_query})\n",
    "data = response.json()"
   ]
  },
  {
   "cell_type": "code",
   "execution_count": 50,
   "metadata": {},
   "outputs": [],
   "source": [
    "pd_restaurant = dict_to_dataframe(data)"
   ]
  },
  {
   "cell_type": "code",
   "execution_count": 54,
   "metadata": {},
   "outputs": [],
   "source": [
    "#pd_restaurant"
   ]
  },
  {
   "cell_type": "code",
   "execution_count": 52,
   "metadata": {},
   "outputs": [],
   "source": [
    "geopd_restaurant = df_to_geodf(pd_restaurant)"
   ]
  },
  {
   "cell_type": "code",
   "execution_count": 55,
   "metadata": {},
   "outputs": [],
   "source": [
    "#geopd_restaurant"
   ]
  },
  {
   "cell_type": "markdown",
   "metadata": {},
   "source": [
    "# Clinic"
   ]
  },
  {
   "cell_type": "code",
   "execution_count": 57,
   "metadata": {},
   "outputs": [],
   "source": [
    "overpass_query = \"\"\"\n",
    "[out:json];\n",
    "node[\"amenity\"=\"clinic\"](40.499479, -74.288986, 40.932319, -73.709685);\n",
    "out;\n",
    "way[\"amenity\"=\"clinic\"](40.499479, -74.288986, 40.932319, -73.709685);\n",
    "out center;\n",
    "relation[\"amenity\"=\"clinic\"](40.499479, -74.288986, 40.932319, -73.709685);\n",
    "out center;\n",
    "\"\"\"\n",
    "response = requests.get(overpass_url, \n",
    "                        params={'data': overpass_query})\n",
    "data = response.json()"
   ]
  },
  {
   "cell_type": "code",
   "execution_count": 58,
   "metadata": {},
   "outputs": [],
   "source": [
    "pd_clinic = dict_to_dataframe(data)"
   ]
  },
  {
   "cell_type": "code",
   "execution_count": 114,
   "metadata": {},
   "outputs": [],
   "source": [
    "#pd_clinic"
   ]
  },
  {
   "cell_type": "code",
   "execution_count": 61,
   "metadata": {},
   "outputs": [],
   "source": [
    "geopd_clinic = df_to_geodf(pd_clinic)"
   ]
  },
  {
   "cell_type": "code",
   "execution_count": 63,
   "metadata": {},
   "outputs": [],
   "source": [
    "#geopd_clinic"
   ]
  },
  {
   "cell_type": "markdown",
   "metadata": {},
   "source": [
    "# Gym"
   ]
  },
  {
   "cell_type": "code",
   "execution_count": 64,
   "metadata": {},
   "outputs": [],
   "source": [
    "overpass_query = \"\"\"\n",
    "[out:json];\n",
    "node[\"leisure\"=\"sports_centre\"](40.499479, -74.288986, 40.932319, -73.709685);\n",
    "out;\n",
    "way[\"leisure\"=\"sports_centre\"](40.499479, -74.288986, 40.932319, -73.709685);\n",
    "out center;\n",
    "relation[\"leisure\"=\"sports_centre\"](40.499479, -74.288986, 40.932319, -73.709685);\n",
    "out center;\n",
    "\"\"\"\n",
    "response = requests.get(overpass_url, \n",
    "                        params={'data': overpass_query})\n",
    "data = response.json()"
   ]
  },
  {
   "cell_type": "code",
   "execution_count": 65,
   "metadata": {},
   "outputs": [],
   "source": [
    "pd_gym = dict_to_dataframe(data)"
   ]
  },
  {
   "cell_type": "code",
   "execution_count": 67,
   "metadata": {},
   "outputs": [],
   "source": [
    "#pd_gym"
   ]
  },
  {
   "cell_type": "code",
   "execution_count": 68,
   "metadata": {},
   "outputs": [],
   "source": [
    "geopd_gym = df_to_geodf(pd_gym)"
   ]
  },
  {
   "cell_type": "code",
   "execution_count": 70,
   "metadata": {},
   "outputs": [],
   "source": [
    "#geopd_gym"
   ]
  },
  {
   "cell_type": "markdown",
   "metadata": {},
   "source": [
    "# Stadium"
   ]
  },
  {
   "cell_type": "code",
   "execution_count": 74,
   "metadata": {},
   "outputs": [],
   "source": [
    "overpass_query = \"\"\"\n",
    "[out:json];\n",
    "node[\"leisure\"=\"stadium\"](40.499479, -74.288986, 40.932319, -73.709685);\n",
    "out;\n",
    "way[\"leisure\"=\"stadium\"](40.499479, -74.288986, 40.932319, -73.709685);\n",
    "out center;\n",
    "relation[\"leisure\"=\"stadium\"](40.499479, -74.288986, 40.932319, -73.709685);\n",
    "out center;\n",
    "\"\"\"\n",
    "response = requests.get(overpass_url, \n",
    "                        params={'data': overpass_query})\n",
    "data = response.json()"
   ]
  },
  {
   "cell_type": "code",
   "execution_count": 89,
   "metadata": {},
   "outputs": [],
   "source": [
    "pd_stadium = dict_to_dataframe(data)"
   ]
  },
  {
   "cell_type": "code",
   "execution_count": 91,
   "metadata": {},
   "outputs": [],
   "source": [
    "#pd_stadium"
   ]
  },
  {
   "cell_type": "code",
   "execution_count": 92,
   "metadata": {},
   "outputs": [],
   "source": [
    "geopd_gym = df_to_geodf(pd_gym)"
   ]
  },
  {
   "cell_type": "code",
   "execution_count": 94,
   "metadata": {},
   "outputs": [],
   "source": [
    "#geopd_gym"
   ]
  },
  {
   "cell_type": "markdown",
   "metadata": {},
   "source": [
    "# Clothes"
   ]
  },
  {
   "cell_type": "code",
   "execution_count": 111,
   "metadata": {},
   "outputs": [],
   "source": [
    "overpass_query = \"\"\"\n",
    "[out:json];\n",
    "node[\"shop\"=\"clothes\"](40.499479, -74.288986, 40.932319, -73.709685);\n",
    "out;\n",
    "way[\"shop\"=\"clothes\"](40.499479, -74.288986, 40.932319, -73.709685);\n",
    "out center;\n",
    "relation[\"shop\"=\"clothes\"](40.499479, -74.288986, 40.932319, -73.709685);\n",
    "out center;\n",
    "\"\"\"\n",
    "response = requests.get(overpass_url, \n",
    "                        params={'data': overpass_query})\n",
    "data = response.json()"
   ]
  },
  {
   "cell_type": "code",
   "execution_count": 116,
   "metadata": {},
   "outputs": [],
   "source": [
    "def dict_to_dataframe_1(data):\n",
    "    dict_flat = []\n",
    "    for element in data['elements']:\n",
    "        dict_flat.append(flatten(element))\n",
    "    pd_1 = pd.DataFrame.from_dict(dict_flat)\n",
    "    if 'lat' in list(pd_1.columns.values):\n",
    "        pd_2 = pd_1[['type', 'id', 'lat', 'lon', 'center_lat', 'center_lon', 'tags_addr:city', 'tags_shop', 'tags_name']]\n",
    "        for index, row in pd_2.iterrows():\n",
    "            if row['type'] != 'node':\n",
    "                pd_2.loc[index, 'lat'] = row['center_lat']\n",
    "                pd_2.loc[index, 'lon'] = row['center_lon']\n",
    "        pd_3 = pd_2.drop(['center_lat','center_lon'], axis=1)\n",
    "        return pd_3\n",
    "    else:\n",
    "        pd_2 = pd_1[['type', 'id', 'center_lat', 'center_lon', 'tags_addr:city', 'tags_shop', 'tags_name']]\n",
    "        pd_2 = pd_2.rename(columns = {'center_lat':'lat', 'center_lon':'lon'})   \n",
    "        return pd_2"
   ]
  },
  {
   "cell_type": "code",
   "execution_count": 117,
   "metadata": {},
   "outputs": [],
   "source": [
    "pd_clothes = dict_to_dataframe_1(data)"
   ]
  },
  {
   "cell_type": "code",
   "execution_count": 119,
   "metadata": {},
   "outputs": [],
   "source": [
    "#pd_clothes"
   ]
  },
  {
   "cell_type": "code",
   "execution_count": 120,
   "metadata": {},
   "outputs": [],
   "source": [
    "geopd_clothes = df_to_geodf(pd_clothes)"
   ]
  },
  {
   "cell_type": "code",
   "execution_count": 123,
   "metadata": {},
   "outputs": [],
   "source": [
    "#geopd_clothes"
   ]
  },
  {
   "cell_type": "markdown",
   "metadata": {},
   "source": [
    "# Shoes"
   ]
  },
  {
   "cell_type": "code",
   "execution_count": 124,
   "metadata": {},
   "outputs": [],
   "source": [
    "overpass_query = \"\"\"\n",
    "[out:json];\n",
    "node[\"shop\"=\"shoes\"](40.499479, -74.288986, 40.932319, -73.709685);\n",
    "out;\n",
    "way[\"shop\"=\"shoes\"](40.499479, -74.288986, 40.932319, -73.709685);\n",
    "out center;\n",
    "relation[\"shop\"=\"shoes\"](40.499479, -74.288986, 40.932319, -73.709685);\n",
    "out center;\n",
    "\"\"\"\n",
    "response = requests.get(overpass_url, \n",
    "                        params={'data': overpass_query})\n",
    "data = response.json()"
   ]
  },
  {
   "cell_type": "code",
   "execution_count": 125,
   "metadata": {},
   "outputs": [],
   "source": [
    "pd_shoes = dict_to_dataframe_1(data)"
   ]
  },
  {
   "cell_type": "code",
   "execution_count": 127,
   "metadata": {},
   "outputs": [],
   "source": [
    "#pd_shoes"
   ]
  },
  {
   "cell_type": "code",
   "execution_count": 128,
   "metadata": {},
   "outputs": [],
   "source": [
    "geopd_shoes = df_to_geodf(pd_shoes)"
   ]
  },
  {
   "cell_type": "code",
   "execution_count": 130,
   "metadata": {},
   "outputs": [],
   "source": [
    "#geopd_shoes"
   ]
  }
 ],
 "metadata": {
  "kernelspec": {
   "display_name": "Python 3",
   "language": "python",
   "name": "python3"
  },
  "language_info": {
   "codemirror_mode": {
    "name": "ipython",
    "version": 3
   },
   "file_extension": ".py",
   "mimetype": "text/x-python",
   "name": "python",
   "nbconvert_exporter": "python",
   "pygments_lexer": "ipython3",
   "version": "3.6.6"
  }
 },
 "nbformat": 4,
 "nbformat_minor": 2
}
