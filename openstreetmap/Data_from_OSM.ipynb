{
 "cells": [
  {
   "cell_type": "markdown",
   "metadata": {},
   "source": [
    "# Data_from_OSM (pd & geopf)\n",
    "# Warning: Not all the results are in NYC. Please use sjoin."
   ]
  },
  {
   "cell_type": "code",
   "execution_count": 1,
   "metadata": {},
   "outputs": [],
   "source": [
    "import requests\n",
    "import json\n",
    "import pandas as pd\n",
    "import geopandas as gpd\n",
    "from shapely.geometry import Point\n",
    "from geopandas.tools import sjoin"
   ]
  },
  {
   "cell_type": "code",
   "execution_count": 2,
   "metadata": {},
   "outputs": [],
   "source": [
    "from pprint import pprint\n",
    "from collections import MutableMapping\n",
    "def flatten(d, parent_key='', sep='_'):\n",
    "    items = []\n",
    "    for k, v in d.items():\n",
    "        new_key = '{0}{1}{2}'.format(parent_key,sep,k) if parent_key else k\n",
    "        if isinstance(v, MutableMapping):\n",
    "            items.extend(flatten(v, new_key, sep=sep).items())\n",
    "        elif isinstance(v, list):\n",
    "            # apply itself to each element of the list - that's it!\n",
    "            items.append((new_key, map(flatten, v)))\n",
    "        else:\n",
    "            items.append((new_key, v))\n",
    "    return dict(items)"
   ]
  },
  {
   "cell_type": "code",
   "execution_count": 3,
   "metadata": {},
   "outputs": [],
   "source": [
    "def dict_to_dataframe(data):\n",
    "    dict_flat = []\n",
    "    for element in data['elements']:\n",
    "        dict_flat.append(flatten(element))\n",
    "    pd_1 = pd.DataFrame.from_dict(dict_flat)\n",
    "    if 'lat' in list(pd_1.columns.values):\n",
    "        pd_2 = pd_1[['type', 'id', 'lat', 'lon', 'center_lat', 'center_lon', 'tags_addr:city', 'tags_amenity', 'tags_name']]\n",
    "        for index, row in pd_2.iterrows():\n",
    "            if row['type'] != 'node':\n",
    "                pd_2.loc[index, 'lat'] = row['center_lat']\n",
    "                pd_2.loc[index, 'lon'] = row['center_lon']\n",
    "        pd_3 = pd_2.drop(['center_lat','center_lon'], axis=1)\n",
    "        return pd_3\n",
    "    else:\n",
    "        pd_2 = pd_1[['type', 'id', 'center_lat', 'center_lon', 'tags_addr:city', 'tags_amenity', 'tags_name']]\n",
    "        pd_2 = pd_2.rename(columns = {'center_lat':'lat', 'center_lon':'lon'})   \n",
    "        return pd_2\n",
    "    \n",
    "    \n",
    "    \n",
    "    \n",
    "    \n",
    "    \n",
    "    \n",
    "    \n",
    "    "
   ]
  },
  {
   "cell_type": "code",
   "execution_count": 4,
   "metadata": {},
   "outputs": [],
   "source": [
    "def df_to_geodf(df):\n",
    "    df_1 = df\n",
    "    df_1['geometry'] = df_1.apply(lambda row: Point(row.lat, row.lon), axis=1)\n",
    "    df_1 = gpd.GeoDataFrame(df_1, crs= \"+init=epsg:4326\")\n",
    "    return df_1"
   ]
  },
  {
   "cell_type": "markdown",
   "metadata": {},
   "source": [
    "# Restaurant"
   ]
  },
  {
   "cell_type": "code",
   "execution_count": 5,
   "metadata": {},
   "outputs": [],
   "source": [
    "overpass_url = \"http://overpass-api.de/api/interpreter\"\n",
    "overpass_query = \"\"\"\n",
    "[out:json];\n",
    "node[\"amenity\"=\"restaurant\"](40.499479, -74.288986, 40.932319, -73.709685);\n",
    "out;\n",
    "way[\"amenity\"=\"restaurant\"](40.499479, -74.288986, 40.932319, -73.709685);\n",
    "out center;\n",
    "relation[\"amenity\"=\"restaurant\"](40.499479, -74.288986, 40.932319, -73.709685);\n",
    "out center;\n",
    "\"\"\"\n",
    "response = requests.get(overpass_url, \n",
    "                        params={'data': overpass_query})\n",
    "data = response.json()"
   ]
  },
  {
   "cell_type": "code",
   "execution_count": 6,
   "metadata": {},
   "outputs": [
    {
     "name": "stderr",
     "output_type": "stream",
     "text": [
      "/Users/michaelzheng/anaconda3/lib/python3.6/site-packages/pandas/core/indexing.py:543: SettingWithCopyWarning: \n",
      "A value is trying to be set on a copy of a slice from a DataFrame.\n",
      "Try using .loc[row_indexer,col_indexer] = value instead\n",
      "\n",
      "See the caveats in the documentation: http://pandas.pydata.org/pandas-docs/stable/indexing.html#indexing-view-versus-copy\n",
      "  self.obj[item] = s\n"
     ]
    }
   ],
   "source": [
    "pd_restaurant = dict_to_dataframe(data)"
   ]
  },
  {
   "cell_type": "code",
   "execution_count": 7,
   "metadata": {},
   "outputs": [],
   "source": [
    "#pd_restaurant"
   ]
  },
  {
   "cell_type": "code",
   "execution_count": 8,
   "metadata": {},
   "outputs": [],
   "source": [
    "geopd_restaurant = df_to_geodf(pd_restaurant)"
   ]
  },
  {
   "cell_type": "code",
   "execution_count": 38,
   "metadata": {},
   "outputs": [],
   "source": [
    "#geopd_restaurant"
   ]
  },
  {
   "cell_type": "markdown",
   "metadata": {},
   "source": [
    "# Clinic"
   ]
  },
  {
   "cell_type": "code",
   "execution_count": 10,
   "metadata": {},
   "outputs": [],
   "source": [
    "overpass_query = \"\"\"\n",
    "[out:json];\n",
    "node[\"amenity\"=\"clinic\"](40.499479, -74.288986, 40.932319, -73.709685);\n",
    "out;\n",
    "way[\"amenity\"=\"clinic\"](40.499479, -74.288986, 40.932319, -73.709685);\n",
    "out center;\n",
    "relation[\"amenity\"=\"clinic\"](40.499479, -74.288986, 40.932319, -73.709685);\n",
    "out center;\n",
    "\"\"\"\n",
    "response = requests.get(overpass_url, \n",
    "                        params={'data': overpass_query})\n",
    "data = response.json()"
   ]
  },
  {
   "cell_type": "code",
   "execution_count": 11,
   "metadata": {},
   "outputs": [],
   "source": [
    "pd_clinic = dict_to_dataframe(data)"
   ]
  },
  {
   "cell_type": "code",
   "execution_count": 12,
   "metadata": {},
   "outputs": [],
   "source": [
    "#pd_clinic"
   ]
  },
  {
   "cell_type": "code",
   "execution_count": 13,
   "metadata": {},
   "outputs": [],
   "source": [
    "geopd_clinic = df_to_geodf(pd_clinic)"
   ]
  },
  {
   "cell_type": "code",
   "execution_count": 14,
   "metadata": {},
   "outputs": [],
   "source": [
    "#geopd_clinic"
   ]
  },
  {
   "cell_type": "markdown",
   "metadata": {},
   "source": [
    "# Gym"
   ]
  },
  {
   "cell_type": "code",
   "execution_count": 15,
   "metadata": {},
   "outputs": [],
   "source": [
    "overpass_query = \"\"\"\n",
    "[out:json];\n",
    "node[\"leisure\"=\"sports_centre\"](40.499479, -74.288986, 40.932319, -73.709685);\n",
    "out;\n",
    "way[\"leisure\"=\"sports_centre\"](40.499479, -74.288986, 40.932319, -73.709685);\n",
    "out center;\n",
    "relation[\"leisure\"=\"sports_centre\"](40.499479, -74.288986, 40.932319, -73.709685);\n",
    "out center;\n",
    "\"\"\"\n",
    "response = requests.get(overpass_url, \n",
    "                        params={'data': overpass_query})\n",
    "data = response.json()"
   ]
  },
  {
   "cell_type": "code",
   "execution_count": 16,
   "metadata": {},
   "outputs": [],
   "source": [
    "pd_gym = dict_to_dataframe(data)"
   ]
  },
  {
   "cell_type": "code",
   "execution_count": 17,
   "metadata": {},
   "outputs": [],
   "source": [
    "#pd_gym"
   ]
  },
  {
   "cell_type": "code",
   "execution_count": 18,
   "metadata": {},
   "outputs": [],
   "source": [
    "geopd_gym = df_to_geodf(pd_gym)"
   ]
  },
  {
   "cell_type": "code",
   "execution_count": 19,
   "metadata": {},
   "outputs": [],
   "source": [
    "#geopd_gym"
   ]
  },
  {
   "cell_type": "markdown",
   "metadata": {},
   "source": [
    "# Stadium"
   ]
  },
  {
   "cell_type": "code",
   "execution_count": 20,
   "metadata": {},
   "outputs": [],
   "source": [
    "overpass_query = \"\"\"\n",
    "[out:json];\n",
    "node[\"leisure\"=\"stadium\"](40.499479, -74.288986, 40.932319, -73.709685);\n",
    "out;\n",
    "way[\"leisure\"=\"stadium\"](40.499479, -74.288986, 40.932319, -73.709685);\n",
    "out center;\n",
    "relation[\"leisure\"=\"stadium\"](40.499479, -74.288986, 40.932319, -73.709685);\n",
    "out center;\n",
    "\"\"\"\n",
    "response = requests.get(overpass_url, \n",
    "                        params={'data': overpass_query})\n",
    "data = response.json()"
   ]
  },
  {
   "cell_type": "code",
   "execution_count": 21,
   "metadata": {},
   "outputs": [],
   "source": [
    "pd_stadium = dict_to_dataframe(data)"
   ]
  },
  {
   "cell_type": "code",
   "execution_count": 22,
   "metadata": {},
   "outputs": [],
   "source": [
    "#pd_stadium"
   ]
  },
  {
   "cell_type": "code",
   "execution_count": 23,
   "metadata": {},
   "outputs": [],
   "source": [
    "geopd_gym = df_to_geodf(pd_gym)"
   ]
  },
  {
   "cell_type": "code",
   "execution_count": 24,
   "metadata": {},
   "outputs": [],
   "source": [
    "#geopd_gym"
   ]
  },
  {
   "cell_type": "markdown",
   "metadata": {},
   "source": [
    "# Clothes"
   ]
  },
  {
   "cell_type": "code",
   "execution_count": 25,
   "metadata": {},
   "outputs": [],
   "source": [
    "overpass_query = \"\"\"\n",
    "[out:json];\n",
    "node[\"shop\"=\"clothes\"](40.499479, -74.288986, 40.932319, -73.709685);\n",
    "out;\n",
    "way[\"shop\"=\"clothes\"](40.499479, -74.288986, 40.932319, -73.709685);\n",
    "out center;\n",
    "relation[\"shop\"=\"clothes\"](40.499479, -74.288986, 40.932319, -73.709685);\n",
    "out center;\n",
    "\"\"\"\n",
    "response = requests.get(overpass_url, \n",
    "                        params={'data': overpass_query})\n",
    "data = response.json()"
   ]
  },
  {
   "cell_type": "code",
   "execution_count": 26,
   "metadata": {},
   "outputs": [],
   "source": [
    "def dict_to_dataframe_1(data):\n",
    "    dict_flat = []\n",
    "    for element in data['elements']:\n",
    "        dict_flat.append(flatten(element))\n",
    "    pd_1 = pd.DataFrame.from_dict(dict_flat)\n",
    "    if 'lat' in list(pd_1.columns.values):\n",
    "        pd_2 = pd_1[['type', 'id', 'lat', 'lon', 'center_lat', 'center_lon', 'tags_addr:city', 'tags_shop', 'tags_name']]\n",
    "        for index, row in pd_2.iterrows():\n",
    "            if row['type'] != 'node':\n",
    "                pd_2.loc[index, 'lat'] = row['center_lat']\n",
    "                pd_2.loc[index, 'lon'] = row['center_lon']\n",
    "        pd_3 = pd_2.drop(['center_lat','center_lon'], axis=1)\n",
    "        return pd_3\n",
    "    else:\n",
    "        pd_2 = pd_1[['type', 'id', 'center_lat', 'center_lon', 'tags_addr:city', 'tags_shop', 'tags_name']]\n",
    "        pd_2 = pd_2.rename(columns = {'center_lat':'lat', 'center_lon':'lon'})   \n",
    "        return pd_2"
   ]
  },
  {
   "cell_type": "code",
   "execution_count": 27,
   "metadata": {},
   "outputs": [],
   "source": [
    "pd_clothes = dict_to_dataframe_1(data)"
   ]
  },
  {
   "cell_type": "code",
   "execution_count": 28,
   "metadata": {},
   "outputs": [],
   "source": [
    "#pd_clothes"
   ]
  },
  {
   "cell_type": "code",
   "execution_count": 29,
   "metadata": {},
   "outputs": [],
   "source": [
    "geopd_clothes = df_to_geodf(pd_clothes)"
   ]
  },
  {
   "cell_type": "code",
   "execution_count": 30,
   "metadata": {},
   "outputs": [],
   "source": [
    "#geopd_clothes"
   ]
  },
  {
   "cell_type": "markdown",
   "metadata": {},
   "source": [
    "# Shoes"
   ]
  },
  {
   "cell_type": "code",
   "execution_count": 31,
   "metadata": {},
   "outputs": [],
   "source": [
    "overpass_query = \"\"\"\n",
    "[out:json];\n",
    "node[\"shop\"=\"shoes\"](40.499479, -74.288986, 40.932319, -73.709685);\n",
    "out;\n",
    "way[\"shop\"=\"shoes\"](40.499479, -74.288986, 40.932319, -73.709685);\n",
    "out center;\n",
    "relation[\"shop\"=\"shoes\"](40.499479, -74.288986, 40.932319, -73.709685);\n",
    "out center;\n",
    "\"\"\"\n",
    "response = requests.get(overpass_url, \n",
    "                        params={'data': overpass_query})\n",
    "data = response.json()"
   ]
  },
  {
   "cell_type": "code",
   "execution_count": 32,
   "metadata": {},
   "outputs": [],
   "source": [
    "pd_shoes = dict_to_dataframe_1(data)"
   ]
  },
  {
   "cell_type": "code",
   "execution_count": 33,
   "metadata": {},
   "outputs": [],
   "source": [
    "#pd_shoes"
   ]
  },
  {
   "cell_type": "code",
   "execution_count": 34,
   "metadata": {},
   "outputs": [],
   "source": [
    "geopd_shoes = df_to_geodf(pd_shoes)"
   ]
  },
  {
   "cell_type": "code",
   "execution_count": 35,
   "metadata": {},
   "outputs": [],
   "source": [
    "#geopd_shoes"
   ]
  },
  {
   "cell_type": "code",
   "execution_count": null,
   "metadata": {},
   "outputs": [],
   "source": []
  }
 ],
 "metadata": {
  "kernelspec": {
   "display_name": "Python 3",
   "language": "python",
   "name": "python3"
  },
  "language_info": {
   "codemirror_mode": {
    "name": "ipython",
    "version": 3
   },
   "file_extension": ".py",
   "mimetype": "text/x-python",
   "name": "python",
   "nbconvert_exporter": "python",
   "pygments_lexer": "ipython3",
   "version": "3.6.6"
  }
 },
 "nbformat": 4,
 "nbformat_minor": 2
}
