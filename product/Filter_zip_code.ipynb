{
 "cells": [
  {
   "cell_type": "code",
   "execution_count": 1,
   "metadata": {},
   "outputs": [],
   "source": [
    "import pandas as pd"
   ]
  },
  {
   "cell_type": "markdown",
   "metadata": {},
   "source": [
    "# Get 3 dataframes"
   ]
  },
  {
   "cell_type": "code",
   "execution_count": 2,
   "metadata": {},
   "outputs": [],
   "source": [
    "zip_wo = pd.read_csv('../cluster/zip_code_age_lg_wealth_osm_percentage.csv', index_col=\"Unnamed: 0\")"
   ]
  },
  {
   "cell_type": "code",
   "execution_count": 3,
   "metadata": {},
   "outputs": [],
   "source": [
    "male_age_data = pd.read_csv('../data-collect/male_age_data.csv', index_col=\"Unnamed: 0\")\n",
    "female_age_data = pd.read_csv('../data-collect/female_age_data.csv', index_col=\"Unnamed: 0\")\n"
   ]
  },
  {
   "cell_type": "code",
   "execution_count": 4,
   "metadata": {},
   "outputs": [],
   "source": [
    "#zip_wo\n",
    "#male_age_data"
   ]
  },
  {
   "cell_type": "code",
   "execution_count": 5,
   "metadata": {},
   "outputs": [],
   "source": [
    "zip_wo_d = zip_wo.drop([10020])"
   ]
  },
  {
   "cell_type": "code",
   "execution_count": 6,
   "metadata": {},
   "outputs": [],
   "source": [
    "male_age_data_d = male_age_data.drop([10020])\n",
    "female_age_data_d = male_age_data.drop([10020])"
   ]
  },
  {
   "cell_type": "markdown",
   "metadata": {},
   "source": [
    "# Make the dataframe for filter"
   ]
  },
  {
   "cell_type": "code",
   "execution_count": 7,
   "metadata": {},
   "outputs": [],
   "source": [
    "zip_wo_d_s2 = zip_wo_d"
   ]
  },
  {
   "cell_type": "code",
   "execution_count": 8,
   "metadata": {},
   "outputs": [],
   "source": [
    "zip_wo_d_s2['age0_18'] = male_age_data_d['0'] + female_age_data_d['0']\n",
    "for i in range(1, 19):\n",
    "    column = str(i)\n",
    "    zip_wo_d_s2['age0_18'] += male_age_data_d[column] + female_age_data_d[column]"
   ]
  },
  {
   "cell_type": "code",
   "execution_count": 9,
   "metadata": {},
   "outputs": [],
   "source": [
    "zip_wo_d_s2['age19_35'] = male_age_data_d['19'] + female_age_data_d['19']\n",
    "for i in range(20, 36):\n",
    "    column = str(i)\n",
    "    zip_wo_d_s2['age19_35'] += male_age_data_d[column] + female_age_data_d[column]"
   ]
  },
  {
   "cell_type": "code",
   "execution_count": 10,
   "metadata": {},
   "outputs": [],
   "source": [
    "zip_wo_d_s2['age36_55'] = male_age_data_d['36'] + female_age_data_d['36']\n",
    "for i in range(37, 56):\n",
    "    column = str(i)\n",
    "    zip_wo_d_s2['age36_55'] += male_age_data_d[column] + female_age_data_d[column]"
   ]
  },
  {
   "cell_type": "code",
   "execution_count": 11,
   "metadata": {},
   "outputs": [],
   "source": [
    "zip_wo_d_s2['age56_102'] = male_age_data_d['56'] + female_age_data_d['56']\n",
    "for i in range(57, 103):\n",
    "    column = str(i)\n",
    "    zip_wo_d_s2['age56_102'] += male_age_data_d[column] + female_age_data_d[column]"
   ]
  },
  {
   "cell_type": "code",
   "execution_count": 12,
   "metadata": {},
   "outputs": [],
   "source": [
    "zip_wo_d_s2['low_income'] = zip_wo_d['1-25,000'] + zip_wo_d['25,000-50,000']\n",
    "zip_wo_d_s2['medium_income'] = zip_wo_d['50,000-75,000'] + zip_wo_d['75,000-100,000']\n",
    "zip_wo_d_s2['high_income'] = zip_wo_d['100,000-200,000'] + zip_wo_d['200,000-...']\n",
    "\n",
    "\n",
    "\n"
   ]
  },
  {
   "cell_type": "code",
   "execution_count": 13,
   "metadata": {},
   "outputs": [],
   "source": [
    "zip_wo_d_s2['age0_18'] = zip_wo_d_s2['age0_18'] / zip_wo_d_s2['age0_18'].sum()\n",
    "zip_wo_d_s2['age19_35'] = zip_wo_d_s2['age19_35'] / zip_wo_d_s2['age19_35'].sum()\n",
    "zip_wo_d_s2['age36_55'] = zip_wo_d_s2['age36_55'] / zip_wo_d_s2['age36_55'].sum()\n",
    "zip_wo_d_s2['age56_102'] = zip_wo_d_s2['age56_102'] / zip_wo_d_s2['age56_102'].sum()\n",
    "\n",
    "\n",
    "zip_wo_d_s2['shoes'] = zip_wo_d['shoes_count'] / zip_wo_d['shoes_count'].sum()\n",
    "zip_wo_d_s2['restaurant'] = zip_wo_d['restaurant_count'] / zip_wo_d['restaurant_count'].sum()\n",
    "zip_wo_d_s2['gym'] = zip_wo_d['gym_count'] / zip_wo_d['gym_count'].sum()\n",
    "zip_wo_d_s2['clothes'] = zip_wo_d['clothes_count'] / zip_wo_d['clothes_count'].sum()\n",
    "zip_wo_d_s2['clinic'] = zip_wo_d['clinic_count'] / zip_wo_d['clinic_count'].sum()\n"
   ]
  },
  {
   "cell_type": "code",
   "execution_count": 14,
   "metadata": {},
   "outputs": [],
   "source": [
    "df = zip_wo_d_s2[['age0_18', 'age19_35', 'age36_55', 'age56_102', 'low_income', 'medium_income', 'high_income', 'shoes', 'restaurant', 'gym', 'clothes', 'clinic']]\n",
    "#df"
   ]
  },
  {
   "cell_type": "code",
   "execution_count": 15,
   "metadata": {},
   "outputs": [],
   "source": [
    "df.to_csv('csv_for_filtering.csv')"
   ]
  },
  {
   "cell_type": "markdown",
   "metadata": {},
   "source": [
    "# Function for ranking zipcode according to selected features"
   ]
  },
  {
   "cell_type": "code",
   "execution_count": 16,
   "metadata": {},
   "outputs": [],
   "source": [
    "zip_wo = pd.read_csv('csv_for_filtering.csv', index_col = 'Unnamed: 0')"
   ]
  },
  {
   "cell_type": "code",
   "execution_count": 17,
   "metadata": {},
   "outputs": [],
   "source": [
    "#zip_wo"
   ]
  },
  {
   "cell_type": "code",
   "execution_count": 18,
   "metadata": {},
   "outputs": [],
   "source": [
    "def rank(df, age, wealth, product, top_n):\n",
    "    df1 = df.copy()\n",
    "    df1['score'] = (df[age] + df[wealth] + df[product]) / 3\n",
    "    df2 = df1.sort_values('score', ascending=False)\n",
    "    rank_list = df2.index.tolist()\n",
    "    return rank_list[:top_n]\n",
    "    "
   ]
  },
  {
   "cell_type": "code",
   "execution_count": 19,
   "metadata": {},
   "outputs": [
    {
     "data": {
      "text/plain": [
       "[10007, 10022, 10280, 10004, 10017, 10023, 10012, 10003, 10024, 10021]"
      ]
     },
     "execution_count": 19,
     "metadata": {},
     "output_type": "execute_result"
    }
   ],
   "source": [
    "# Using example\n",
    "r = rank(zip_wo, 'age19_35', 'high_income', 'shoes', 10)\n",
    "r"
   ]
  },
  {
   "cell_type": "code",
   "execution_count": 20,
   "metadata": {},
   "outputs": [],
   "source": [
    "# python -c 'import filter; print(filter.filter(\"age19_35\", \"high_income\", \"shoes\", 10))'"
   ]
  }
 ],
 "metadata": {
  "kernelspec": {
   "display_name": "Python 3",
   "language": "python",
   "name": "python3"
  },
  "language_info": {
   "codemirror_mode": {
    "name": "ipython",
    "version": 3
   },
   "file_extension": ".py",
   "mimetype": "text/x-python",
   "name": "python",
   "nbconvert_exporter": "python",
   "pygments_lexer": "ipython3",
   "version": "3.6.6"
  }
 },
 "nbformat": 4,
 "nbformat_minor": 2
}
