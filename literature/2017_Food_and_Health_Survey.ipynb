{
 "cells": [
  {
   "cell_type": "code",
   "execution_count": 1,
   "metadata": {},
   "outputs": [],
   "source": [
    "import pickle"
   ]
  },
  {
   "cell_type": "code",
   "execution_count": 5,
   "metadata": {},
   "outputs": [],
   "source": [
    "data ={\n",
    "    \"General Demographics\": {\n",
    "        \"Gender\": {\"male\": 0.48, \"female\": 0.52},\n",
    "        \"Age\": {\"18-34\": 0.31, \"35-49\": 0.25, \"50-64\": 0.26, \"65-80\": 18},\n",
    "        \"Race\": {\"White\": 0.65, \"Hispanic\": 0.15, \"African American\": 0.12, \"Asian or Pacific Islander\": 0.06, \"Other\": 0.02},\n",
    "        \"Household Income\": {\"< 35k\": 0.17, \"35k-50k\": 0.16, \"50k-75k\": 0.20, \"75k-100k\": 0.15,\n",
    "                             \"100k-$150k\": 0.17, \"> 150k\": 0.07, \"other\": 0.07},\n",
    "        \"Education\": {\"< high school\": 0.02, \"high school\": 0.38, \"Some college\": 0.19, \"AA degree/technical/vocational\": 0.09,\n",
    "                      \"Bachelor's degree\": 0.20, \"Graduate/professional degree\": 0.12},   \n",
    "    },\n",
    "    \"Household Demographics\": {\n",
    "        \"US region\": {\"Northeast\": 0.18, \"South\": 0.37, \"West\": 0.24, \"Midwest\": 0.21},\n",
    "        \"Type of location\": {\"Suburban\": 0.5, \"Urban\": 0.21, \"Rural\": 0.16, \"Small town\": 0.13},\n",
    "        \"Type of residence\": {\"own property\": 0.66, \"rent property\": 0.27, \"another arrangement\": 6},\n",
    "        \"Marital status\": {\"Married\": 0.59, \"Living with partner\": 0.07, \"Single, never married\": 0.21, \n",
    "                           \"Divorced or separated\": 0.09, \"Widowed\": 0.03, \"Other\": 0.01},\n",
    "        \"Children’s ages\": {\"< 2\": 0.08, \"3-6\": 0.07, \"7-12\": 0.11, \"13-17\": 0.11, \"> 18\": 0.38, \"no children\": 0.39, \"no ans\": 0.01},\n",
    "    },\n",
    "    \"Health Demographics\": {\n",
    "        \"Pregnancy\": {\"Pregnant in past 12 months\": 0.12, \"Not pregnant\": 0.88},\n",
    "        \"Diseases\": {\"High blood pressure\": 0.24, \"High cholesterol\": 0.2, \"Diabetes\": 0.11, \"Stress/anxiety/depression\": 0.1, \"Overweight/obesity\": 0.1,\n",
    "                     \"Heart disease\": 0.04, \"Cancer\": 0.02, \"Osteoporosis\": 0.02, \"ADHD\": 0.02, \"Stroke\": 0.01, \"None of the above\": 0.55},\n",
    "        \"BMI Score\": {\"Normal or Low\": 0.36, \"Overweight\": 0.31, \"Obese\": 0.3, \"No answer\": 0.03}\n",
    "    }\n",
    "}"
   ]
  },
  {
   "cell_type": "code",
   "execution_count": 7,
   "metadata": {},
   "outputs": [],
   "source": [
    "with open('../csv/2017_Food_and_Health_Survey.pkl', 'wb') as file:\n",
    "    pickle.dump(data, file)"
   ]
  },
  {
   "cell_type": "code",
   "execution_count": 8,
   "metadata": {},
   "outputs": [
    {
     "name": "stdout",
     "output_type": "stream",
     "text": [
      "{'General Demographics': {'Gender': {'male': 0.48, 'female': 0.52}, 'Age': {'18-34': 0.31, '35-49': 0.25, '50-64': 0.26, '65-80': 18}, 'Race': {'White': 0.65, 'Hispanic': 0.15, 'African American': 0.12, 'Asian or Pacific Islander': 0.06, 'Other': 0.02}, 'Household Income': {'< 35k': 0.17, '35k-50k': 0.16, '50k-75k': 0.2, '75k-100k': 0.15, '100k-$150k': 0.17, '> 150k': 0.07, 'other': 0.07}, 'Education': {'< high school': 0.02, 'high school': 0.38, 'Some college': 0.19, 'AA degree/technical/vocational': 0.09, \"Bachelor's degree\": 0.2, 'Graduate/professional degree': 0.12}}, 'Household Demographics': {'US region': {'Northeast': 0.18, 'South': 0.37, 'West': 0.24, 'Midwest': 0.21}, 'Type of location': {'Suburban': 0.5, 'Urban': 0.21, 'Rural': 0.16, 'Small town': 0.13}, 'Type of residence': {'own property': 0.66, 'rent property': 0.27, 'another arrangement': 6}, 'Marital status': {'Married': 0.59, 'Living with partner': 0.07, 'Single, never married': 0.21, 'Divorced or separated': 0.09, 'Widowed': 0.03, 'Other': 0.01}, 'Children’s ages': {'< 2': 0.08, '3-6': 0.07, '7-12': 0.11, '13-17': 0.11, '> 18': 0.38, 'no children': 0.39, 'no ans': 0.01}}, 'Health Demographics': {'Pregnancy': {'Pregnant in past 12 months': 0.12, 'Not pregnant': 0.88}, 'Diseases': {'High blood pressure': 0.24, 'High cholesterol': 0.2, 'Diabetes': 0.11, 'Stress/anxiety/depression': 0.1, 'Overweight/obesity': 0.1, 'Heart disease': 0.04, 'Cancer': 0.02, 'Osteoporosis': 0.02, 'ADHD': 0.02, 'Stroke': 0.01, 'None of the above': 0.55}, 'BMI Score': {'Normal or Low': 0.36, 'Overweight': 0.31, 'Obese': 0.3, 'No answer': 0.03}}}\n"
     ]
    }
   ],
   "source": [
    "with open('../csv/2017_Food_and_Health_Survey.pkl', 'rb') as file:\n",
    "    print(pickle.load(file))"
   ]
  },
  {
   "cell_type": "code",
   "execution_count": null,
   "metadata": {},
   "outputs": [],
   "source": []
  }
 ],
 "metadata": {
  "kernelspec": {
   "display_name": "SP",
   "language": "python",
   "name": "sp"
  },
  "language_info": {
   "codemirror_mode": {
    "name": "ipython",
    "version": 3
   },
   "file_extension": ".py",
   "mimetype": "text/x-python",
   "name": "python",
   "nbconvert_exporter": "python",
   "pygments_lexer": "ipython3",
   "version": "3.6.6"
  }
 },
 "nbformat": 4,
 "nbformat_minor": 2
}
